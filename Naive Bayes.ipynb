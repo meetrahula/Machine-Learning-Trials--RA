{
 "cells": [
  {
   "cell_type": "markdown",
   "metadata": {
    "id": "qhRlcswzfs5D"
   },
   "source": [
    "<center><img src=\"https://github.com/insaid2018/Term-1/blob/master/Images/INSAID_Full%20Logo.png?raw=true\" width=\"240\" height=\"100\" /></center>\n",
    "\n",
    "# <center><b>Naive Bayes<b></center>"
   ]
  },
  {
   "cell_type": "markdown",
   "metadata": {
    "id": "Wen3uYwIfvSZ"
   },
   "source": [
    "---\n",
    "# **Table of Contents**\n",
    "---\n",
    "\n",
    "**1.** [**Introduction**](#Section1)<br>\n",
    "  - **1.1** [**Conditional Probability**](#Section11)\n",
    "  - **1.2** [**Bayes Theorem**](#Section12)\n",
    "  - **1.3** [**Pros/Cons of Naive Bayes**](#Section13)\n",
    "\n",
    "**2.** [**Problem Statement**](#Section2)<br>\n",
    "**3.** [**Installing & Importing Libraries**](#Section3)<br>\n",
    "  - **3.1** [**Installing Libraries**](#Section31)\n",
    "  - **3.2** [**Upgrading Libraries**](#Section32)\n",
    "  - **3.3** [**Importing Libraries**](#Section33)\n",
    "\n",
    "**4.** [**Data Acquisition & Description**](#Section4)<br>\n",
    "  - **4.1** [**Data Description**](#Section41)\n",
    "  - **4.2** [**Data Information**](#Section42)\n",
    "\n",
    "**5.** [**Data Pre-processing**](#Section5)<br>\n",
    "  - **5.1** [**Pre-Profiling Report**](#Section51)<br>\n",
    "\n",
    "**6.** [**Exploratory Data Analysis**](#Section6)<br>\n",
    "**7.** [**Post Data Processing & Feature Selection**](#Section7)<br>\n",
    "  - **7.1** [**Data Standardization**](#Section71)<br>\n",
    "  - **7.2** [**Feature Selection using Random Forest**](#Section72)<br>\n",
    "  - **7.3** [**Data Preparation**](#Section73)<br>\n",
    "\n",
    "**8.** [**Model Development & Evaluation**](#Section8)<br>\n",
    "  - **8.1** [**Naive Bayes - Baseline Model**](#Section81)<br>\n",
    "  - **8.2** [**SMOTE Technique & its Implementation**](#Section82)<br>\n",
    "  - **8.3** [**Naive Bayes - Oversampled Model**](#Section83)<br>\n",
    "\n",
    "**9.** [**Conclusion**](#Section9)<br>\n",
    "\n"
   ]
  },
  {
   "cell_type": "markdown",
   "metadata": {
    "id": "c-z4KzAefwlP"
   },
   "source": [
    "---\n",
    "<a name = Section1></a>\n",
    "# **1. Introduction**\n",
    "---\n",
    "\n",
    "- Naive Bayes classifiers are a family of simple \"**probabilistic classifiers**\" based on applying **Bayes' theorem**.\n",
    "\n",
    "- It follows **strong (naïve) independence assumptions** between the **features**.\n",
    "\n",
    "- Before diving further **let's get to know some important concepts** that are realted to Naive Bayes."
   ]
  },
  {
   "cell_type": "markdown",
   "metadata": {
    "id": "kMXJNooGHXRj"
   },
   "source": [
    "<a name = Section11></a>\n",
    "### **1.1 Conditional Probability**\n",
    "\n",
    "- It is a measure of the **probability** of an **event occurring** with some **relationship** to **one or more** other **events**. \n",
    "\n",
    "- **Formula:** $P(A | B)$ = $\\frac{P(A ∩ B)}{P(B)}$\n",
    "\n",
    "- **Example:** Let's say there's a person named as Aisha who has two favourite foods:\n",
    "\n",
    "|Favourite Food - Breakfast|Favourite Food - Lunch|\n",
    "|:--:|:--:|\n",
    "|||\n",
    "|<img src=\"https://raw.githubusercontent.com/insaid2018/Term-3/master/Images/Pizza.gif\" width=60% height=60%>|<img src=\"https://raw.githubusercontent.com/insaid2018/Term-3/master/Images/Donut.gif\" width=60% height=60%>|\n",
    "\n",
    "  - Let **A** represents the **event** that **she eats Donuts** in **breakfast** and **B** represents **Pizza** for **lunch**.\n",
    "\n",
    "  - On a **random day**, the **probability** of her **eating donuts P(A)** is **0.6** while the **probability** of **eating pizza P(B)** is **0.5**.\n",
    "\n",
    "  - The **conditional probability** that **she eats donuts** for **breakfast** and **pizza** for **lunch P(A | B)** is **0.7**.\n",
    "\n",
    "  - What is the conditional probability P(B | A) that she eats pizza for lunch given that she eat donuts for breakfast?\n",
    "<br><br> \n",
    "  - **Solution:** Given is $P(A) = 0.6$, $P(B) = 0.5$, $P(A | B) = 0.7$, $P(B | A) = ?$\n",
    "\n",
    "    - Event $P(A)$ is different from $P(A | B)$ but this tells us these two events are not independent.\n",
    "\n",
    "    - The fact that B being true has changed the probability of A being true, this tells us that these two events are dependent.\n",
    "\n",
    "    - We will see what is the probability of both A and B happening.\n",
    "\n",
    "    - $P(A ∩ B)$ = $P(A | B).P(B)$ = $P(B | A).P(A)$\n",
    "\n",
    "    - $P(A ∩ B)$ = $0.7 * 0.5$\n",
    "\n",
    "    - $0.35$ = $P(B | A)*0.6$\n",
    "\n",
    "    - $P(B | A)$ = $0.35 ÷ 0.6$ = $0.58$"
   ]
  },
  {
   "cell_type": "markdown",
   "metadata": {
    "id": "ZI82PGmxF-B0"
   },
   "source": [
    "<a name = Section12></a>\n",
    "### **1.2 Bayes Theorem**\n",
    "\n",
    "- Ever **wondered** how **internet** provides **search results** about the **topic of interest**?\n",
    "\n",
    "- Let's say you searched for \"**movie automatic shoe laces**\" and it brings up \"**Back to the future**\".\n",
    "\n",
    "- **Has** the **search engine** **watched** the **movie?** **No**, but it **knows** from lots of **other searches** what people are probably looking for.\n",
    "\n",
    "- And it **calculates** that **probability using Bayes' Theorem**.\n",
    "\n",
    "- Bayes' Theorem describes the **probability of an event**, based on **prior knowledge** of conditions that might be **related to the event**.\n",
    "\n",
    "<br> \n",
    "- **Formula:** $P(A | B) = \\frac{P(B | A).P(A)}{P(B)}$\n",
    "\n",
    "<br> \n",
    "- **Example:** Let us say:\n",
    "\n",
    "  - $P(Smoke)$ - probability of smoke happening,\n",
    "\n",
    "  - $P(Fire)$ - probability of fire happening,\n",
    "\n",
    "  - $P(Fire | Smoke)$ - probability of fire if smoke happens.\n",
    "\n",
    "  - $P(Smoke | Fire)$ - probability of smoke if fire happens.\n",
    "\n",
    "<center><img src=\"https://raw.githubusercontent.com/insaid2018/Term-3/master/Images/smoke1.gif\" width=60% height=60%></center>\n",
    "\n",
    "<br> \n",
    "- So the **formula** kind of **tells us \"forwards\"** $P(Fire | Smoke)$ **when we know \"backwards\"** $P(Smoke | Fire)$.\n",
    "\n",
    "- Dangerous fires are rare (1%), but smoke is fairly common (10%) due to barbecues, and 90% of dangerous fires make smoke.\n",
    "\n",
    "<br> \n",
    "- **Solution:** We can then discover the probability of dangerous Fire when there is Smoke:\n",
    "\n",
    "  - $P(Fire | Smoke)$ = $\\frac{P(Smoke | Fire).P(Fire)}{P(Smoke)}$\n",
    "\n",
    "  - $P(Fire | Smoke)$ = (90% x 1%) ÷ 10%\n",
    "\n",
    "  - $P(Fire | Smoke)$ = 9%\n",
    "\n",
    "- So it is still worth checking out any smoke to be sure."
   ]
  },
  {
   "cell_type": "markdown",
   "metadata": {
    "id": "MUX0gL2WF36C"
   },
   "source": [
    "<a name = Section13></a>\n",
    "### **1.3 Pros/Cons of Naive Bayes**\n",
    "\n",
    "**Pros:** The advantages of using Naive Bayes are as follows:\n",
    "\n",
    "- **Easy** and **fast** to **predict** **class** of **test** **data** set. \n",
    "\n",
    "- **Performs** **well** in case of **multi-class** prediction.\n",
    "\n",
    "- **Performs** **well** in case of **categorical** features **as compared** to **numerical** features.\n",
    "\n",
    "- For **numerical variable**, **normal distribution** is **assumed** (bell curve), which is a **strong assumption**.\n",
    "\n",
    "- When **assumption** of **independence** **holds**, it **performs better** as **compared** to **other** **models**.\n",
    "\n",
    "<br> \n",
    "**Cons:** The disadvantages of using Naive Bayes are as follows:\n",
    "\n",
    "- **Zero Frequency Problem:** In case, if categorical variable has a category in test data set, which was not observed in training data set, then model will assign a zero probability and will be unable to make a prediction.\n",
    "\n",
    "  - **Solution:** Smoothing techniques such as ***Laplace estimation***.\n",
    "\n",
    "- **Bad estimator:** Probability outputs from predict_proba are not to be taken too seriously.\n",
    "\n",
    "- **Assumption of Independent Predictors:** In real life, it is almost impossible to get a set of predictors which are completely independent.\n",
    "\n",
    "\n"
   ]
  },
  {
   "cell_type": "markdown",
   "metadata": {
    "id": "GdsyOly4fz5h"
   },
   "source": [
    "---\n",
    "<a name = Section2></a>\n",
    "# **2. Problem Statement**\n",
    "---\n",
    "\n",
    "- **Every year**, **millions** of people **fall victim** to **fraud** that costs the national economy billions of dollars. \n",
    "\n",
    "- If you're a victim, it can **wreak havoc** on your **personal finances**. \n",
    "\n",
    "- It is **important** that credit card companies are able to **recognize fraudulent** credit card **transactions**.\n",
    "\n",
    "- Luckily, many financial **institutions** have **measures** in place to help **protect** you from **credit fraud**.\n",
    "\n",
    "<br> \n",
    "<center><img src=\"https://raw.githubusercontent.com/insaid2018/Term-3/master/Images/eCommerce-fraud_1.jpg\"></center>\n",
    "\n",
    "<br> \n",
    "**<h4>Scenario (Hypothetical):</h4>**\n",
    "\n",
    "- **Card Express**, a **USA** based company, provides **credit card services** to its customers.\n",
    "\n",
    "- Various **customers** had **dispute** against the company because **fradusters** were **stealing** their **money** (credits).\n",
    "\n",
    "- After looking into the problem they found some **unexpected loopholes** in their **security measures**.\n",
    "\n",
    "- They decided to **rectify** the **shortcomings** of securing the credits of their potential customers.\n",
    "\n",
    "- In the **meantime** they are **looking** for an **automated solution** to identify the likeliness of customer being fraudulent or not.\n",
    "\n",
    "- There are chances that **fraudsters** might **try** to **crack** inside the **company's interface** and can commit fraudulent transactions.\n",
    "\n",
    "- It may **harm people's trust** towards the company and they might **loose** their potential **customers**.\n",
    "\n",
    "- To tackle this situation of crisis, they have **consulted** a team of **data scientists**. **Consider it's you...**"
   ]
  },
  {
   "cell_type": "markdown",
   "metadata": {
    "id": "3Pf_Dcvtf2nH"
   },
   "source": [
    "---\n",
    "<a name = Section3></a>\n",
    "# **3. Installing & Importing Libraries**\n",
    "---"
   ]
  },
  {
   "cell_type": "markdown",
   "metadata": {
    "id": "GO8A-0t9f4SH"
   },
   "source": [
    "<a name = Section31></a>\n",
    "### **3.1 Installing Libraries**"
   ]
  },
  {
   "cell_type": "code",
   "execution_count": null,
   "metadata": {
    "colab": {
     "base_uri": "https://localhost:8080/",
     "height": 51
    },
    "executionInfo": {
     "elapsed": 13851,
     "status": "ok",
     "timestamp": 1601530149807,
     "user": {
      "displayName": "Mukesh Kumar",
      "photoUrl": "",
      "userId": "01238672520445611335"
     },
     "user_tz": -330
    },
    "id": "tgQOEhmAfgNc",
    "outputId": "c886bab9-4ad4-4d02-dcc2-44b959ff3e6a"
   },
   "outputs": [
    {
     "name": "stdout",
     "output_type": "stream",
     "text": [
      "\u001b[K     |████████████████████████████████| 71kB 2.0MB/s eta 0:00:011\n",
      "\u001b[?25h  Building wheel for folium (setup.py) ... \u001b[?25l\u001b[?25hdone\n"
     ]
    }
   ],
   "source": [
    "!pip install -q datascience                   # Package that is required by pandas profiling\n",
    "!pip install -q pandas-profiling              # Library to generate basic statistics about data\n",
    "!pip install -q yellowbrick                   # Toolbox for Measuring Machine Performance"
   ]
  },
  {
   "cell_type": "markdown",
   "metadata": {
    "id": "irJihFz2f9Bv"
   },
   "source": [
    "<a name = Section32></a>\n",
    "### **3.2 Upgrading Libraries**\n",
    "\n",
    "- **After upgrading** the libraries, you need to **restart the runtime** to make the libraries in sync. \n",
    "\n",
    "- Make sure not to execute the cell above (3.1) and below (3.2) again after restarting the runtime."
   ]
  },
  {
   "cell_type": "code",
   "execution_count": null,
   "metadata": {
    "colab": {
     "base_uri": "https://localhost:8080/",
     "height": 187
    },
    "executionInfo": {
     "elapsed": 34580,
     "status": "ok",
     "timestamp": 1601530170577,
     "user": {
      "displayName": "Mukesh Kumar",
      "photoUrl": "",
      "userId": "01238672520445611335"
     },
     "user_tz": -330
    },
    "id": "z0DU5GLuf-4_",
    "outputId": "245c0769-1d68-41c8-a0c5-61ac5bf74dfa"
   },
   "outputs": [
    {
     "name": "stdout",
     "output_type": "stream",
     "text": [
      "\u001b[K     |████████████████████████████████| 266kB 2.7MB/s \n",
      "\u001b[K     |████████████████████████████████| 71kB 2.9MB/s \n",
      "\u001b[K     |████████████████████████████████| 3.1MB 8.1MB/s \n",
      "\u001b[K     |████████████████████████████████| 604kB 21.3MB/s \n",
      "\u001b[K     |████████████████████████████████| 71kB 3.6MB/s \n",
      "\u001b[K     |████████████████████████████████| 71kB 3.2MB/s \n",
      "\u001b[K     |████████████████████████████████| 296kB 26.7MB/s \n",
      "\u001b[?25h  Building wheel for htmlmin (setup.py) ... \u001b[?25l\u001b[?25hdone\n",
      "  Building wheel for imagehash (setup.py) ... \u001b[?25l\u001b[?25hdone\n",
      "\u001b[K     |████████████████████████████████| 266kB 2.8MB/s \n",
      "\u001b[?25h"
     ]
    }
   ],
   "source": [
    "!pip install -q --upgrade pandas-profiling\n",
    "!pip install -q --upgrade yellowbrick"
   ]
  },
  {
   "cell_type": "markdown",
   "metadata": {
    "id": "jJRcsUWHgAqv"
   },
   "source": [
    "<a name = Section33></a>\n",
    "### **3.3 Importing Libraries**"
   ]
  },
  {
   "cell_type": "code",
   "execution_count": null,
   "metadata": {
    "id": "9KpckLk0gAio"
   },
   "outputs": [],
   "source": [
    "#-------------------------------------------------------------------------------------------------------------------------------\n",
    "import pandas as pd                                                 # Importing for panel data analysis\n",
    "from pandas_profiling import ProfileReport                          # Import Pandas Profiling (To generate Univariate Analysis) \n",
    "pd.set_option('display.max_columns', None)                          # Unfolding hidden features if the cardinality is high      \n",
    "pd.set_option('display.max_colwidth', None)                         # Unfolding the max feature width for better clearity      \n",
    "pd.set_option('display.max_rows', None)                             # Unfolding hidden data points if the cardinality is high\n",
    "pd.set_option('mode.chained_assignment', None)                      # Removing restriction over chained assignments operations\n",
    "pd.set_option('display.float_format', lambda x: '%.5f' % x)         # To suppress scientific notation over exponential values\n",
    "#-------------------------------------------------------------------------------------------------------------------------------\n",
    "import numpy as np                                                  # Importing package numpys (For Numerical Python)\n",
    "#-------------------------------------------------------------------------------------------------------------------------------\n",
    "import matplotlib.pyplot as plt                                     # Importing pyplot interface using matplotlib\n",
    "from matplotlib.pylab import rcParams                               # Backend used for rendering and GUI integration                                               \n",
    "import seaborn as sns                                               # Importin seaborm library for interactive visualization\n",
    "%matplotlib inline\n",
    "#-------------------------------------------------------------------------------------------------------------------------------\n",
    "from random import randint                                          # Importing to generate random integers\n",
    "from sklearn.preprocessing import StandardScaler                    # Importing standard scaler to perform standardization\n",
    "from sklearn.feature_selection import SelectFromModel               # To select features from model using Yellow bricks\n",
    "from yellowbrick.model_selection import FeatureImportances          # To select important features out of the model\n",
    "#-------------------------------------------------------------------------------------------------------------------------------\n",
    "from imblearn.over_sampling import SMOTE                            # To handle class imbalance problem\n",
    "from sklearn.metrics import precision_recall_curve                  # For precision and recall metric estimation\n",
    "from sklearn.metrics import classification_report                   # To generate complete report of evaluation metrics\n",
    "from sklearn.metrics import plot_confusion_matrix                   # To plot confusion matrix \n",
    "#-------------------------------------------------------------------------------------------------------------------------------\n",
    "from sklearn.model_selection import train_test_split                # To split the data in training and testing part     \n",
    "from sklearn.naive_bayes import GaussianNB                          # To create a naive bayes model using algorithm\n",
    "from sklearn.ensemble import RandomForestClassifier                 # To create a random forest model using algorithm\n",
    "#-------------------------------------------------------------------------------------------------------------------------------\n",
    "import warnings                                                     # Importing warning to disable runtime warnings\n",
    "warnings.filterwarnings(\"ignore\")                                   # Warnings will appear only once"
   ]
  },
  {
   "cell_type": "markdown",
   "metadata": {
    "id": "H0muZAkqgGD4"
   },
   "source": [
    "---\n",
    "<a name = Section4></a>\n",
    "# **4. Data Acquisition & Description**\n",
    "---\n",
    "\n",
    "\n",
    "- The data set is based on the **credit-card transactions** made in **September 2013** by **European cardholders**.\n",
    "\n",
    "- This data set presents **transactions** that **occurred** in **two days** and can be retrieved from the attached <a href = \"https://raw.githubusercontent.com/insaid2018/Term-2/master/Data/credit_fraud.csv\">**link**</a>.\n",
    "\n",
    "| Records | Features | Dataset Size |\n",
    "| :-- | :-- | :-- |\n",
    "| 1000 | 31 | 3.42 MB| \n",
    "\n",
    "\n",
    "| Id | Features | Description |\n",
    "| :-- | :--| :--| \n",
    "|01| **Time** | Seconds elapsed between each transaction and the first transaction in the dataset. Range:[0, 15012]|\n",
    "|02| **V1...V28** | Encrypted information of the credit details.| \n",
    "|03|**Amount**|The transaction amount peformed by the credit holder. Range: [0, 7712.43]|\n",
    "|04|**Class**|Label explaing fraudulent and non-fraudulent transactions. [0: Non-fraudulent, 1: Fraudulent]|"
   ]
  },
  {
   "cell_type": "code",
   "execution_count": null,
   "metadata": {
    "colab": {
     "base_uri": "https://localhost:8080/",
     "height": 241
    },
    "executionInfo": {
     "elapsed": 3121,
     "status": "ok",
     "timestamp": 1601365095057,
     "user": {
      "displayName": "Mukesh Kumar",
      "photoUrl": "",
      "userId": "01238672520445611335"
     },
     "user_tz": -330
    },
    "id": "LkjjrqK4gDyn",
    "outputId": "41db4f02-0de1-49bd-c5e5-bf8b1781a276"
   },
   "outputs": [
    {
     "name": "stdout",
     "output_type": "stream",
     "text": [
      "Data Shape: (10000, 31)\n"
     ]
    },
    {
     "data": {
      "text/html": [
       "<div>\n",
       "<style scoped>\n",
       "    .dataframe tbody tr th:only-of-type {\n",
       "        vertical-align: middle;\n",
       "    }\n",
       "\n",
       "    .dataframe tbody tr th {\n",
       "        vertical-align: top;\n",
       "    }\n",
       "\n",
       "    .dataframe thead th {\n",
       "        text-align: right;\n",
       "    }\n",
       "</style>\n",
       "<table border=\"1\" class=\"dataframe\">\n",
       "  <thead>\n",
       "    <tr style=\"text-align: right;\">\n",
       "      <th></th>\n",
       "      <th>Time</th>\n",
       "      <th>V1</th>\n",
       "      <th>V2</th>\n",
       "      <th>V3</th>\n",
       "      <th>V4</th>\n",
       "      <th>V5</th>\n",
       "      <th>V6</th>\n",
       "      <th>V7</th>\n",
       "      <th>V8</th>\n",
       "      <th>V9</th>\n",
       "      <th>V10</th>\n",
       "      <th>V11</th>\n",
       "      <th>V12</th>\n",
       "      <th>V13</th>\n",
       "      <th>V14</th>\n",
       "      <th>V15</th>\n",
       "      <th>V16</th>\n",
       "      <th>V17</th>\n",
       "      <th>V18</th>\n",
       "      <th>V19</th>\n",
       "      <th>V20</th>\n",
       "      <th>V21</th>\n",
       "      <th>V22</th>\n",
       "      <th>V23</th>\n",
       "      <th>V24</th>\n",
       "      <th>V25</th>\n",
       "      <th>V26</th>\n",
       "      <th>V27</th>\n",
       "      <th>V28</th>\n",
       "      <th>Amount</th>\n",
       "      <th>Class</th>\n",
       "    </tr>\n",
       "  </thead>\n",
       "  <tbody>\n",
       "    <tr>\n",
       "      <th>0</th>\n",
       "      <td>0</td>\n",
       "      <td>-1.35981</td>\n",
       "      <td>-0.07278</td>\n",
       "      <td>2.53635</td>\n",
       "      <td>1.37816</td>\n",
       "      <td>-0.33832</td>\n",
       "      <td>0.46239</td>\n",
       "      <td>0.23960</td>\n",
       "      <td>0.09870</td>\n",
       "      <td>0.36379</td>\n",
       "      <td>0.09079</td>\n",
       "      <td>-0.55160</td>\n",
       "      <td>-0.61780</td>\n",
       "      <td>-0.99139</td>\n",
       "      <td>-0.31117</td>\n",
       "      <td>1.46818</td>\n",
       "      <td>-0.47040</td>\n",
       "      <td>0.20797</td>\n",
       "      <td>0.02579</td>\n",
       "      <td>0.40399</td>\n",
       "      <td>0.25141</td>\n",
       "      <td>-0.01831</td>\n",
       "      <td>0.27784</td>\n",
       "      <td>-0.11047</td>\n",
       "      <td>0.06693</td>\n",
       "      <td>0.12854</td>\n",
       "      <td>-0.18911</td>\n",
       "      <td>0.13356</td>\n",
       "      <td>-0.02105</td>\n",
       "      <td>149.62000</td>\n",
       "      <td>0</td>\n",
       "    </tr>\n",
       "    <tr>\n",
       "      <th>1</th>\n",
       "      <td>0</td>\n",
       "      <td>1.19186</td>\n",
       "      <td>0.26615</td>\n",
       "      <td>0.16648</td>\n",
       "      <td>0.44815</td>\n",
       "      <td>0.06002</td>\n",
       "      <td>-0.08236</td>\n",
       "      <td>-0.07880</td>\n",
       "      <td>0.08510</td>\n",
       "      <td>-0.25543</td>\n",
       "      <td>-0.16697</td>\n",
       "      <td>1.61273</td>\n",
       "      <td>1.06524</td>\n",
       "      <td>0.48910</td>\n",
       "      <td>-0.14377</td>\n",
       "      <td>0.63556</td>\n",
       "      <td>0.46392</td>\n",
       "      <td>-0.11480</td>\n",
       "      <td>-0.18336</td>\n",
       "      <td>-0.14578</td>\n",
       "      <td>-0.06908</td>\n",
       "      <td>-0.22578</td>\n",
       "      <td>-0.63867</td>\n",
       "      <td>0.10129</td>\n",
       "      <td>-0.33985</td>\n",
       "      <td>0.16717</td>\n",
       "      <td>0.12589</td>\n",
       "      <td>-0.00898</td>\n",
       "      <td>0.01472</td>\n",
       "      <td>2.69000</td>\n",
       "      <td>0</td>\n",
       "    </tr>\n",
       "    <tr>\n",
       "      <th>2</th>\n",
       "      <td>1</td>\n",
       "      <td>-1.35835</td>\n",
       "      <td>-1.34016</td>\n",
       "      <td>1.77321</td>\n",
       "      <td>0.37978</td>\n",
       "      <td>-0.50320</td>\n",
       "      <td>1.80050</td>\n",
       "      <td>0.79146</td>\n",
       "      <td>0.24768</td>\n",
       "      <td>-1.51465</td>\n",
       "      <td>0.20764</td>\n",
       "      <td>0.62450</td>\n",
       "      <td>0.06608</td>\n",
       "      <td>0.71729</td>\n",
       "      <td>-0.16595</td>\n",
       "      <td>2.34586</td>\n",
       "      <td>-2.89008</td>\n",
       "      <td>1.10997</td>\n",
       "      <td>-0.12136</td>\n",
       "      <td>-2.26186</td>\n",
       "      <td>0.52498</td>\n",
       "      <td>0.24800</td>\n",
       "      <td>0.77168</td>\n",
       "      <td>0.90941</td>\n",
       "      <td>-0.68928</td>\n",
       "      <td>-0.32764</td>\n",
       "      <td>-0.13910</td>\n",
       "      <td>-0.05535</td>\n",
       "      <td>-0.05975</td>\n",
       "      <td>378.66000</td>\n",
       "      <td>0</td>\n",
       "    </tr>\n",
       "    <tr>\n",
       "      <th>3</th>\n",
       "      <td>1</td>\n",
       "      <td>-0.96627</td>\n",
       "      <td>-0.18523</td>\n",
       "      <td>1.79299</td>\n",
       "      <td>-0.86329</td>\n",
       "      <td>-0.01031</td>\n",
       "      <td>1.24720</td>\n",
       "      <td>0.23761</td>\n",
       "      <td>0.37744</td>\n",
       "      <td>-1.38702</td>\n",
       "      <td>-0.05495</td>\n",
       "      <td>-0.22649</td>\n",
       "      <td>0.17823</td>\n",
       "      <td>0.50776</td>\n",
       "      <td>-0.28792</td>\n",
       "      <td>-0.63142</td>\n",
       "      <td>-1.05965</td>\n",
       "      <td>-0.68409</td>\n",
       "      <td>1.96578</td>\n",
       "      <td>-1.23262</td>\n",
       "      <td>-0.20804</td>\n",
       "      <td>-0.10830</td>\n",
       "      <td>0.00527</td>\n",
       "      <td>-0.19032</td>\n",
       "      <td>-1.17558</td>\n",
       "      <td>0.64738</td>\n",
       "      <td>-0.22193</td>\n",
       "      <td>0.06272</td>\n",
       "      <td>0.06146</td>\n",
       "      <td>123.50000</td>\n",
       "      <td>0</td>\n",
       "    </tr>\n",
       "    <tr>\n",
       "      <th>4</th>\n",
       "      <td>2</td>\n",
       "      <td>-1.15823</td>\n",
       "      <td>0.87774</td>\n",
       "      <td>1.54872</td>\n",
       "      <td>0.40303</td>\n",
       "      <td>-0.40719</td>\n",
       "      <td>0.09592</td>\n",
       "      <td>0.59294</td>\n",
       "      <td>-0.27053</td>\n",
       "      <td>0.81774</td>\n",
       "      <td>0.75307</td>\n",
       "      <td>-0.82284</td>\n",
       "      <td>0.53820</td>\n",
       "      <td>1.34585</td>\n",
       "      <td>-1.11967</td>\n",
       "      <td>0.17512</td>\n",
       "      <td>-0.45145</td>\n",
       "      <td>-0.23703</td>\n",
       "      <td>-0.03819</td>\n",
       "      <td>0.80349</td>\n",
       "      <td>0.40854</td>\n",
       "      <td>-0.00943</td>\n",
       "      <td>0.79828</td>\n",
       "      <td>-0.13746</td>\n",
       "      <td>0.14127</td>\n",
       "      <td>-0.20601</td>\n",
       "      <td>0.50229</td>\n",
       "      <td>0.21942</td>\n",
       "      <td>0.21515</td>\n",
       "      <td>69.99000</td>\n",
       "      <td>0</td>\n",
       "    </tr>\n",
       "  </tbody>\n",
       "</table>\n",
       "</div>"
      ],
      "text/plain": [
       "   Time       V1       V2      V3       V4       V5       V6       V7  \\\n",
       "0     0 -1.35981 -0.07278 2.53635  1.37816 -0.33832  0.46239  0.23960   \n",
       "1     0  1.19186  0.26615 0.16648  0.44815  0.06002 -0.08236 -0.07880   \n",
       "2     1 -1.35835 -1.34016 1.77321  0.37978 -0.50320  1.80050  0.79146   \n",
       "3     1 -0.96627 -0.18523 1.79299 -0.86329 -0.01031  1.24720  0.23761   \n",
       "4     2 -1.15823  0.87774 1.54872  0.40303 -0.40719  0.09592  0.59294   \n",
       "\n",
       "        V8       V9      V10      V11      V12      V13      V14      V15  \\\n",
       "0  0.09870  0.36379  0.09079 -0.55160 -0.61780 -0.99139 -0.31117  1.46818   \n",
       "1  0.08510 -0.25543 -0.16697  1.61273  1.06524  0.48910 -0.14377  0.63556   \n",
       "2  0.24768 -1.51465  0.20764  0.62450  0.06608  0.71729 -0.16595  2.34586   \n",
       "3  0.37744 -1.38702 -0.05495 -0.22649  0.17823  0.50776 -0.28792 -0.63142   \n",
       "4 -0.27053  0.81774  0.75307 -0.82284  0.53820  1.34585 -1.11967  0.17512   \n",
       "\n",
       "       V16      V17      V18      V19      V20      V21      V22      V23  \\\n",
       "0 -0.47040  0.20797  0.02579  0.40399  0.25141 -0.01831  0.27784 -0.11047   \n",
       "1  0.46392 -0.11480 -0.18336 -0.14578 -0.06908 -0.22578 -0.63867  0.10129   \n",
       "2 -2.89008  1.10997 -0.12136 -2.26186  0.52498  0.24800  0.77168  0.90941   \n",
       "3 -1.05965 -0.68409  1.96578 -1.23262 -0.20804 -0.10830  0.00527 -0.19032   \n",
       "4 -0.45145 -0.23703 -0.03819  0.80349  0.40854 -0.00943  0.79828 -0.13746   \n",
       "\n",
       "       V24      V25      V26      V27      V28    Amount  Class  \n",
       "0  0.06693  0.12854 -0.18911  0.13356 -0.02105 149.62000      0  \n",
       "1 -0.33985  0.16717  0.12589 -0.00898  0.01472   2.69000      0  \n",
       "2 -0.68928 -0.32764 -0.13910 -0.05535 -0.05975 378.66000      0  \n",
       "3 -1.17558  0.64738 -0.22193  0.06272  0.06146 123.50000      0  \n",
       "4  0.14127 -0.20601  0.50229  0.21942  0.21515  69.99000      0  "
      ]
     },
     "execution_count": 2,
     "metadata": {
      "tags": []
     },
     "output_type": "execute_result"
    }
   ],
   "source": [
    "data = pd.read_csv(filepath_or_buffer = 'https://raw.githubusercontent.com/insaid2018/Term-2/master/Data/credit_fraud.csv')\n",
    "print('Data Shape:', data.shape)\n",
    "data.head()"
   ]
  },
  {
   "cell_type": "markdown",
   "metadata": {
    "id": "IWLkJZjWx2s9"
   },
   "source": [
    "<a name = Section41></a>\n",
    "### **4.1 Data Description**\n",
    "\n",
    "- In this section we will get **information about the data** and see some observations."
   ]
  },
  {
   "cell_type": "code",
   "execution_count": null,
   "metadata": {
    "colab": {
     "base_uri": "https://localhost:8080/",
     "height": 317
    },
    "executionInfo": {
     "elapsed": 3088,
     "status": "ok",
     "timestamp": 1601365095059,
     "user": {
      "displayName": "Mukesh Kumar",
      "photoUrl": "",
      "userId": "01238672520445611335"
     },
     "user_tz": -330
    },
    "id": "PUmtfeFqwbWg",
    "outputId": "fd4edf45-c3ef-4e98-c4d4-f412bc538319"
   },
   "outputs": [
    {
     "data": {
      "text/html": [
       "<div>\n",
       "<style scoped>\n",
       "    .dataframe tbody tr th:only-of-type {\n",
       "        vertical-align: middle;\n",
       "    }\n",
       "\n",
       "    .dataframe tbody tr th {\n",
       "        vertical-align: top;\n",
       "    }\n",
       "\n",
       "    .dataframe thead th {\n",
       "        text-align: right;\n",
       "    }\n",
       "</style>\n",
       "<table border=\"1\" class=\"dataframe\">\n",
       "  <thead>\n",
       "    <tr style=\"text-align: right;\">\n",
       "      <th></th>\n",
       "      <th>Time</th>\n",
       "      <th>V1</th>\n",
       "      <th>V2</th>\n",
       "      <th>V3</th>\n",
       "      <th>V4</th>\n",
       "      <th>V5</th>\n",
       "      <th>V6</th>\n",
       "      <th>V7</th>\n",
       "      <th>V8</th>\n",
       "      <th>V9</th>\n",
       "      <th>V10</th>\n",
       "      <th>V11</th>\n",
       "      <th>V12</th>\n",
       "      <th>V13</th>\n",
       "      <th>V14</th>\n",
       "      <th>V15</th>\n",
       "      <th>V16</th>\n",
       "      <th>V17</th>\n",
       "      <th>V18</th>\n",
       "      <th>V19</th>\n",
       "      <th>V20</th>\n",
       "      <th>V21</th>\n",
       "      <th>V22</th>\n",
       "      <th>V23</th>\n",
       "      <th>V24</th>\n",
       "      <th>V25</th>\n",
       "      <th>V26</th>\n",
       "      <th>V27</th>\n",
       "      <th>V28</th>\n",
       "      <th>Amount</th>\n",
       "      <th>Class</th>\n",
       "    </tr>\n",
       "  </thead>\n",
       "  <tbody>\n",
       "    <tr>\n",
       "      <th>count</th>\n",
       "      <td>10000.00000</td>\n",
       "      <td>10000.00000</td>\n",
       "      <td>10000.00000</td>\n",
       "      <td>10000.00000</td>\n",
       "      <td>10000.00000</td>\n",
       "      <td>10000.00000</td>\n",
       "      <td>10000.00000</td>\n",
       "      <td>10000.00000</td>\n",
       "      <td>10000.00000</td>\n",
       "      <td>10000.00000</td>\n",
       "      <td>10000.00000</td>\n",
       "      <td>10000.00000</td>\n",
       "      <td>10000.00000</td>\n",
       "      <td>10000.00000</td>\n",
       "      <td>10000.00000</td>\n",
       "      <td>10000.00000</td>\n",
       "      <td>10000.00000</td>\n",
       "      <td>10000.00000</td>\n",
       "      <td>10000.00000</td>\n",
       "      <td>10000.00000</td>\n",
       "      <td>10000.00000</td>\n",
       "      <td>10000.00000</td>\n",
       "      <td>10000.00000</td>\n",
       "      <td>10000.00000</td>\n",
       "      <td>10000.00000</td>\n",
       "      <td>10000.00000</td>\n",
       "      <td>10000.00000</td>\n",
       "      <td>10000.00000</td>\n",
       "      <td>10000.00000</td>\n",
       "      <td>10000.00000</td>\n",
       "      <td>10000.00000</td>\n",
       "    </tr>\n",
       "    <tr>\n",
       "      <th>mean</th>\n",
       "      <td>5966.03340</td>\n",
       "      <td>-0.24186</td>\n",
       "      <td>0.28195</td>\n",
       "      <td>0.90627</td>\n",
       "      <td>0.26415</td>\n",
       "      <td>-0.04640</td>\n",
       "      <td>0.13311</td>\n",
       "      <td>-0.07169</td>\n",
       "      <td>-0.06478</td>\n",
       "      <td>0.80222</td>\n",
       "      <td>-0.22300</td>\n",
       "      <td>0.76607</td>\n",
       "      <td>-1.27251</td>\n",
       "      <td>0.85141</td>\n",
       "      <td>0.70060</td>\n",
       "      <td>-0.12963</td>\n",
       "      <td>-0.00776</td>\n",
       "      <td>0.31899</td>\n",
       "      <td>-0.01607</td>\n",
       "      <td>-0.07042</td>\n",
       "      <td>0.02751</td>\n",
       "      <td>-0.05199</td>\n",
       "      <td>-0.15267</td>\n",
       "      <td>-0.03327</td>\n",
       "      <td>0.02133</td>\n",
       "      <td>0.08715</td>\n",
       "      <td>0.10814</td>\n",
       "      <td>0.00552</td>\n",
       "      <td>0.00291</td>\n",
       "      <td>63.03019</td>\n",
       "      <td>0.00380</td>\n",
       "    </tr>\n",
       "    <tr>\n",
       "      <th>std</th>\n",
       "      <td>4473.40374</td>\n",
       "      <td>1.52168</td>\n",
       "      <td>1.30814</td>\n",
       "      <td>1.15915</td>\n",
       "      <td>1.44123</td>\n",
       "      <td>1.18294</td>\n",
       "      <td>1.30731</td>\n",
       "      <td>1.07743</td>\n",
       "      <td>1.25906</td>\n",
       "      <td>1.15520</td>\n",
       "      <td>1.09355</td>\n",
       "      <td>1.16860</td>\n",
       "      <td>1.52766</td>\n",
       "      <td>1.21305</td>\n",
       "      <td>1.23929</td>\n",
       "      <td>0.97557</td>\n",
       "      <td>0.88206</td>\n",
       "      <td>0.96639</td>\n",
       "      <td>0.79426</td>\n",
       "      <td>0.80837</td>\n",
       "      <td>0.58999</td>\n",
       "      <td>0.91381</td>\n",
       "      <td>0.63108</td>\n",
       "      <td>0.48781</td>\n",
       "      <td>0.59443</td>\n",
       "      <td>0.42817</td>\n",
       "      <td>0.56279</td>\n",
       "      <td>0.41087</td>\n",
       "      <td>0.26625</td>\n",
       "      <td>184.48616</td>\n",
       "      <td>0.06153</td>\n",
       "    </tr>\n",
       "    <tr>\n",
       "      <th>min</th>\n",
       "      <td>0.00000</td>\n",
       "      <td>-27.67057</td>\n",
       "      <td>-34.60765</td>\n",
       "      <td>-15.49622</td>\n",
       "      <td>-4.65755</td>\n",
       "      <td>-32.09213</td>\n",
       "      <td>-23.49671</td>\n",
       "      <td>-26.54814</td>\n",
       "      <td>-23.63250</td>\n",
       "      <td>-6.32980</td>\n",
       "      <td>-13.19342</td>\n",
       "      <td>-2.59533</td>\n",
       "      <td>-17.76914</td>\n",
       "      <td>-3.38951</td>\n",
       "      <td>-19.21433</td>\n",
       "      <td>-4.15253</td>\n",
       "      <td>-12.22719</td>\n",
       "      <td>-18.58737</td>\n",
       "      <td>-6.92076</td>\n",
       "      <td>-4.93273</td>\n",
       "      <td>-13.27603</td>\n",
       "      <td>-11.46843</td>\n",
       "      <td>-8.52714</td>\n",
       "      <td>-15.14434</td>\n",
       "      <td>-2.51238</td>\n",
       "      <td>-2.57736</td>\n",
       "      <td>-1.33856</td>\n",
       "      <td>-7.97610</td>\n",
       "      <td>-3.50925</td>\n",
       "      <td>0.00000</td>\n",
       "      <td>0.00000</td>\n",
       "    </tr>\n",
       "    <tr>\n",
       "      <th>25%</th>\n",
       "      <td>2072.75000</td>\n",
       "      <td>-1.01328</td>\n",
       "      <td>-0.20834</td>\n",
       "      <td>0.41280</td>\n",
       "      <td>-0.61442</td>\n",
       "      <td>-0.64339</td>\n",
       "      <td>-0.62993</td>\n",
       "      <td>-0.54234</td>\n",
       "      <td>-0.19075</td>\n",
       "      <td>0.07087</td>\n",
       "      <td>-0.68842</td>\n",
       "      <td>-0.06369</td>\n",
       "      <td>-2.36811</td>\n",
       "      <td>-0.01798</td>\n",
       "      <td>0.08040</td>\n",
       "      <td>-0.70953</td>\n",
       "      <td>-0.49554</td>\n",
       "      <td>-0.18003</td>\n",
       "      <td>-0.45030</td>\n",
       "      <td>-0.55213</td>\n",
       "      <td>-0.14998</td>\n",
       "      <td>-0.26812</td>\n",
       "      <td>-0.54964</td>\n",
       "      <td>-0.17412</td>\n",
       "      <td>-0.32782</td>\n",
       "      <td>-0.15814</td>\n",
       "      <td>-0.32797</td>\n",
       "      <td>-0.08449</td>\n",
       "      <td>-0.01575</td>\n",
       "      <td>5.00000</td>\n",
       "      <td>0.00000</td>\n",
       "    </tr>\n",
       "    <tr>\n",
       "      <th>50%</th>\n",
       "      <td>4563.50000</td>\n",
       "      <td>-0.37280</td>\n",
       "      <td>0.28852</td>\n",
       "      <td>0.94436</td>\n",
       "      <td>0.21986</td>\n",
       "      <td>-0.15277</td>\n",
       "      <td>-0.15257</td>\n",
       "      <td>-0.05559</td>\n",
       "      <td>0.01287</td>\n",
       "      <td>0.80528</td>\n",
       "      <td>-0.34072</td>\n",
       "      <td>0.74675</td>\n",
       "      <td>-1.62101</td>\n",
       "      <td>0.91913</td>\n",
       "      <td>0.89979</td>\n",
       "      <td>-0.01008</td>\n",
       "      <td>0.06609</td>\n",
       "      <td>0.29742</td>\n",
       "      <td>0.02522</td>\n",
       "      <td>-0.07721</td>\n",
       "      <td>-0.02142</td>\n",
       "      <td>-0.12327</td>\n",
       "      <td>-0.13675</td>\n",
       "      <td>-0.04579</td>\n",
       "      <td>0.07998</td>\n",
       "      <td>0.12100</td>\n",
       "      <td>0.04286</td>\n",
       "      <td>-0.00457</td>\n",
       "      <td>0.01590</td>\n",
       "      <td>15.95000</td>\n",
       "      <td>0.00000</td>\n",
       "    </tr>\n",
       "    <tr>\n",
       "      <th>75%</th>\n",
       "      <td>10233.25000</td>\n",
       "      <td>1.15086</td>\n",
       "      <td>0.90188</td>\n",
       "      <td>1.60290</td>\n",
       "      <td>1.12567</td>\n",
       "      <td>0.37108</td>\n",
       "      <td>0.50536</td>\n",
       "      <td>0.47628</td>\n",
       "      <td>0.27453</td>\n",
       "      <td>1.50630</td>\n",
       "      <td>0.17430</td>\n",
       "      <td>1.57654</td>\n",
       "      <td>0.08267</td>\n",
       "      <td>1.76889</td>\n",
       "      <td>1.49921</td>\n",
       "      <td>0.53350</td>\n",
       "      <td>0.54740</td>\n",
       "      <td>0.78286</td>\n",
       "      <td>0.45939</td>\n",
       "      <td>0.44291</td>\n",
       "      <td>0.15653</td>\n",
       "      <td>0.03271</td>\n",
       "      <td>0.24749</td>\n",
       "      <td>0.08167</td>\n",
       "      <td>0.41088</td>\n",
       "      <td>0.35906</td>\n",
       "      <td>0.47639</td>\n",
       "      <td>0.12081</td>\n",
       "      <td>0.07718</td>\n",
       "      <td>50.96000</td>\n",
       "      <td>0.00000</td>\n",
       "    </tr>\n",
       "    <tr>\n",
       "      <th>max</th>\n",
       "      <td>15012.00000</td>\n",
       "      <td>1.96050</td>\n",
       "      <td>8.63621</td>\n",
       "      <td>4.10172</td>\n",
       "      <td>10.46302</td>\n",
       "      <td>34.09931</td>\n",
       "      <td>21.39307</td>\n",
       "      <td>34.30318</td>\n",
       "      <td>5.06038</td>\n",
       "      <td>10.39289</td>\n",
       "      <td>12.25995</td>\n",
       "      <td>12.01891</td>\n",
       "      <td>3.77484</td>\n",
       "      <td>4.46541</td>\n",
       "      <td>5.74873</td>\n",
       "      <td>3.63504</td>\n",
       "      <td>4.08780</td>\n",
       "      <td>7.89339</td>\n",
       "      <td>4.11556</td>\n",
       "      <td>4.55536</td>\n",
       "      <td>8.01257</td>\n",
       "      <td>22.58899</td>\n",
       "      <td>4.53445</td>\n",
       "      <td>13.87622</td>\n",
       "      <td>3.20020</td>\n",
       "      <td>5.52509</td>\n",
       "      <td>3.51735</td>\n",
       "      <td>8.25438</td>\n",
       "      <td>4.86077</td>\n",
       "      <td>7712.43000</td>\n",
       "      <td>1.00000</td>\n",
       "    </tr>\n",
       "  </tbody>\n",
       "</table>\n",
       "</div>"
      ],
      "text/plain": [
       "             Time          V1          V2          V3          V4          V5  \\\n",
       "count 10000.00000 10000.00000 10000.00000 10000.00000 10000.00000 10000.00000   \n",
       "mean   5966.03340    -0.24186     0.28195     0.90627     0.26415    -0.04640   \n",
       "std    4473.40374     1.52168     1.30814     1.15915     1.44123     1.18294   \n",
       "min       0.00000   -27.67057   -34.60765   -15.49622    -4.65755   -32.09213   \n",
       "25%    2072.75000    -1.01328    -0.20834     0.41280    -0.61442    -0.64339   \n",
       "50%    4563.50000    -0.37280     0.28852     0.94436     0.21986    -0.15277   \n",
       "75%   10233.25000     1.15086     0.90188     1.60290     1.12567     0.37108   \n",
       "max   15012.00000     1.96050     8.63621     4.10172    10.46302    34.09931   \n",
       "\n",
       "               V6          V7          V8          V9         V10         V11  \\\n",
       "count 10000.00000 10000.00000 10000.00000 10000.00000 10000.00000 10000.00000   \n",
       "mean      0.13311    -0.07169    -0.06478     0.80222    -0.22300     0.76607   \n",
       "std       1.30731     1.07743     1.25906     1.15520     1.09355     1.16860   \n",
       "min     -23.49671   -26.54814   -23.63250    -6.32980   -13.19342    -2.59533   \n",
       "25%      -0.62993    -0.54234    -0.19075     0.07087    -0.68842    -0.06369   \n",
       "50%      -0.15257    -0.05559     0.01287     0.80528    -0.34072     0.74675   \n",
       "75%       0.50536     0.47628     0.27453     1.50630     0.17430     1.57654   \n",
       "max      21.39307    34.30318     5.06038    10.39289    12.25995    12.01891   \n",
       "\n",
       "              V12         V13         V14         V15         V16         V17  \\\n",
       "count 10000.00000 10000.00000 10000.00000 10000.00000 10000.00000 10000.00000   \n",
       "mean     -1.27251     0.85141     0.70060    -0.12963    -0.00776     0.31899   \n",
       "std       1.52766     1.21305     1.23929     0.97557     0.88206     0.96639   \n",
       "min     -17.76914    -3.38951   -19.21433    -4.15253   -12.22719   -18.58737   \n",
       "25%      -2.36811    -0.01798     0.08040    -0.70953    -0.49554    -0.18003   \n",
       "50%      -1.62101     0.91913     0.89979    -0.01008     0.06609     0.29742   \n",
       "75%       0.08267     1.76889     1.49921     0.53350     0.54740     0.78286   \n",
       "max       3.77484     4.46541     5.74873     3.63504     4.08780     7.89339   \n",
       "\n",
       "              V18         V19         V20         V21         V22         V23  \\\n",
       "count 10000.00000 10000.00000 10000.00000 10000.00000 10000.00000 10000.00000   \n",
       "mean     -0.01607    -0.07042     0.02751    -0.05199    -0.15267    -0.03327   \n",
       "std       0.79426     0.80837     0.58999     0.91381     0.63108     0.48781   \n",
       "min      -6.92076    -4.93273   -13.27603   -11.46843    -8.52714   -15.14434   \n",
       "25%      -0.45030    -0.55213    -0.14998    -0.26812    -0.54964    -0.17412   \n",
       "50%       0.02522    -0.07721    -0.02142    -0.12327    -0.13675    -0.04579   \n",
       "75%       0.45939     0.44291     0.15653     0.03271     0.24749     0.08167   \n",
       "max       4.11556     4.55536     8.01257    22.58899     4.53445    13.87622   \n",
       "\n",
       "              V24         V25         V26         V27         V28      Amount  \\\n",
       "count 10000.00000 10000.00000 10000.00000 10000.00000 10000.00000 10000.00000   \n",
       "mean      0.02133     0.08715     0.10814     0.00552     0.00291    63.03019   \n",
       "std       0.59443     0.42817     0.56279     0.41087     0.26625   184.48616   \n",
       "min      -2.51238    -2.57736    -1.33856    -7.97610    -3.50925     0.00000   \n",
       "25%      -0.32782    -0.15814    -0.32797    -0.08449    -0.01575     5.00000   \n",
       "50%       0.07998     0.12100     0.04286    -0.00457     0.01590    15.95000   \n",
       "75%       0.41088     0.35906     0.47639     0.12081     0.07718    50.96000   \n",
       "max       3.20020     5.52509     3.51735     8.25438     4.86077  7712.43000   \n",
       "\n",
       "            Class  \n",
       "count 10000.00000  \n",
       "mean      0.00380  \n",
       "std       0.06153  \n",
       "min       0.00000  \n",
       "25%       0.00000  \n",
       "50%       0.00000  \n",
       "75%       0.00000  \n",
       "max       1.00000  "
      ]
     },
     "execution_count": 3,
     "metadata": {
      "tags": []
     },
     "output_type": "execute_result"
    }
   ],
   "source": [
    "data.describe()"
   ]
  },
  {
   "cell_type": "markdown",
   "metadata": {
    "id": "z9uuutUfUwVr"
   },
   "source": [
    "**Observation:**\n",
    "\n",
    "- The **average** value of **1000 transactions** are **5966 seconds**.\n",
    "\n",
    "- **25%** of **transactions** happened **<= 2072 seconds** while **50% and 75%** of **transactions** happened **<= 4563 seconds** and **<= 10233 seconds**.\n",
    "\n",
    "- The **average amount** of **transaction** performed by credit card holder is **$\\$$ 63**.\n",
    "\n",
    "- **25%** of **transactions extracted $\\$$ 5** while **50% and 75%** of **transactions extracted $\\$$ 15.9** and **$\\$$ 50**."
   ]
  },
  {
   "cell_type": "markdown",
   "metadata": {
    "id": "ofXq-dE8x5lZ"
   },
   "source": [
    "<a name = Section42></a>\n",
    "### **4.2 Data Information**\n",
    "\n",
    "- In this section we will see the **information about the types of features**."
   ]
  },
  {
   "cell_type": "code",
   "execution_count": null,
   "metadata": {
    "colab": {
     "base_uri": "https://localhost:8080/",
     "height": 663
    },
    "executionInfo": {
     "elapsed": 3052,
     "status": "ok",
     "timestamp": 1601365095060,
     "user": {
      "displayName": "Mukesh Kumar",
      "photoUrl": "",
      "userId": "01238672520445611335"
     },
     "user_tz": -330
    },
    "id": "YdsYPhanx5eL",
    "outputId": "68563ad7-ad1a-4112-d17c-93465ecef226"
   },
   "outputs": [
    {
     "name": "stdout",
     "output_type": "stream",
     "text": [
      "<class 'pandas.core.frame.DataFrame'>\n",
      "RangeIndex: 10000 entries, 0 to 9999\n",
      "Data columns (total 31 columns):\n",
      " #   Column  Non-Null Count  Dtype  \n",
      "---  ------  --------------  -----  \n",
      " 0   Time    10000 non-null  int64  \n",
      " 1   V1      10000 non-null  float64\n",
      " 2   V2      10000 non-null  float64\n",
      " 3   V3      10000 non-null  float64\n",
      " 4   V4      10000 non-null  float64\n",
      " 5   V5      10000 non-null  float64\n",
      " 6   V6      10000 non-null  float64\n",
      " 7   V7      10000 non-null  float64\n",
      " 8   V8      10000 non-null  float64\n",
      " 9   V9      10000 non-null  float64\n",
      " 10  V10     10000 non-null  float64\n",
      " 11  V11     10000 non-null  float64\n",
      " 12  V12     10000 non-null  float64\n",
      " 13  V13     10000 non-null  float64\n",
      " 14  V14     10000 non-null  float64\n",
      " 15  V15     10000 non-null  float64\n",
      " 16  V16     10000 non-null  float64\n",
      " 17  V17     10000 non-null  float64\n",
      " 18  V18     10000 non-null  float64\n",
      " 19  V19     10000 non-null  float64\n",
      " 20  V20     10000 non-null  float64\n",
      " 21  V21     10000 non-null  float64\n",
      " 22  V22     10000 non-null  float64\n",
      " 23  V23     10000 non-null  float64\n",
      " 24  V24     10000 non-null  float64\n",
      " 25  V25     10000 non-null  float64\n",
      " 26  V26     10000 non-null  float64\n",
      " 27  V27     10000 non-null  float64\n",
      " 28  V28     10000 non-null  float64\n",
      " 29  Amount  10000 non-null  float64\n",
      " 30  Class   10000 non-null  int64  \n",
      "dtypes: float64(29), int64(2)\n",
      "memory usage: 2.4 MB\n"
     ]
    }
   ],
   "source": [
    "data.info(verbose = True, memory_usage = 'deep', null_counts = True)"
   ]
  },
  {
   "cell_type": "markdown",
   "metadata": {
    "id": "Vx0yT5J7WVpf"
   },
   "source": [
    "**Observation:**\n",
    "\n",
    "- There is **no null data present** inside our data set.\n",
    "\n",
    "- **Each feature** seems to have **correct data type**."
   ]
  },
  {
   "cell_type": "markdown",
   "metadata": {
    "id": "r0behJ7WzHFy"
   },
   "source": [
    "<a name = Section5></a>\n",
    "\n",
    "---\n",
    "# **5. Data Pre-Processing**\n",
    "---"
   ]
  },
  {
   "cell_type": "markdown",
   "metadata": {
    "id": "_4Hr34Dky1f0"
   },
   "source": [
    "<a name = Section51></a>\n",
    "### **5.1 Pre Profiling Report**\n",
    "\n",
    "- For **quick analysis** pandas profiling is very handy.\n",
    "\n",
    "- Generates profile reports from a pandas DataFrame.\n",
    "\n",
    "- For each column **statistics** are presented in an interactive HTML report."
   ]
  },
  {
   "cell_type": "code",
   "execution_count": null,
   "metadata": {
    "id": "WiyaudAry1-L"
   },
   "outputs": [],
   "source": [
    "# profile = ProfileReport(df = data)\n",
    "# profile.to_file(output_file = 'Pre Profiling Report.html')\n",
    "# print('Accomplished!')"
   ]
  },
  {
   "cell_type": "code",
   "execution_count": null,
   "metadata": {
    "id": "msHacrYby6yj"
   },
   "outputs": [],
   "source": [
    "# from google.colab import files                   # Use only if you are using Google Colab, otherwise remove it\n",
    "# files.download('Pre Profiling Report.html')      # Use only if you are using Google Colab, otherwise remove it"
   ]
  },
  {
   "cell_type": "markdown",
   "metadata": {
    "id": "0ZmA7OT0W82u"
   },
   "source": [
    "**Observation:**\n",
    "\n",
    "- Report show that there are **31 features** out of which **30 are numerical** and **one is boolean**.\n",
    "\n",
    "- There is **no missing data**.\n",
    "\n",
    "- There **exists 42 duplicate rows** (0.4%).\n",
    "\n",
    "- For full details checkout the report."
   ]
  },
  {
   "cell_type": "markdown",
   "metadata": {
    "id": "IXJeiAQjY_8z"
   },
   "source": [
    "**Performing Operations**"
   ]
  },
  {
   "cell_type": "code",
   "execution_count": null,
   "metadata": {
    "colab": {
     "base_uri": "https://localhost:8080/",
     "height": 68
    },
    "executionInfo": {
     "elapsed": 3404,
     "status": "ok",
     "timestamp": 1601365095572,
     "user": {
      "displayName": "Mukesh Kumar",
      "photoUrl": "",
      "userId": "01238672520445611335"
     },
     "user_tz": -330
    },
    "id": "syW8eGAzZChH",
    "outputId": "350df537-78da-4187-ea00-0275693217e2"
   },
   "outputs": [
    {
     "name": "stdout",
     "output_type": "stream",
     "text": [
      "Data Shape [Before]: (10000, 31)\n",
      "Data Shape [After]: (9958, 31)\n",
      "Drop Ratio: 0.42 %\n"
     ]
    }
   ],
   "source": [
    "before_shape = data.shape\n",
    "print('Data Shape [Before]:', before_shape)\n",
    "\n",
    "data.drop_duplicates(inplace = True)\n",
    "\n",
    "after_shape = data.shape\n",
    "print('Data Shape [After]:', after_shape)\n",
    "\n",
    "drop_nums = before_shape[0] - after_shape[0]\n",
    "drop_percent = np.round(drop_nums / before_shape[0], decimals = 5) * 100\n",
    "\n",
    "print('Drop Ratio:', drop_percent, '%')"
   ]
  },
  {
   "cell_type": "markdown",
   "metadata": {
    "id": "0NwT4oPnaFt7"
   },
   "source": [
    "**Observation:**\n",
    "\n",
    "- We have **successfully handled duplicate data**."
   ]
  },
  {
   "cell_type": "markdown",
   "metadata": {
    "id": "idD3QcKjzbOx"
   },
   "source": [
    "<a name = Section6></a>\n",
    "\n",
    "---\n",
    "# **6. Exploratory Data Analysis**\n",
    "---"
   ]
  },
  {
   "cell_type": "markdown",
   "metadata": {
    "id": "6pdpI7nQaoAG"
   },
   "source": [
    "**<h4>Question: What is the frequency and proportion of fraudulent and non-fraudulent transactions?</h4>**"
   ]
  },
  {
   "cell_type": "code",
   "execution_count": null,
   "metadata": {
    "colab": {
     "base_uri": "https://localhost:8080/",
     "height": 588
    },
    "executionInfo": {
     "elapsed": 4160,
     "status": "ok",
     "timestamp": 1601365096496,
     "user": {
      "displayName": "Mukesh Kumar",
      "photoUrl": "",
      "userId": "01238672520445611335"
     },
     "user_tz": -330
    },
    "id": "cjcalMl7zbIN",
    "outputId": "44aec23c-1bdc-47b6-d0d0-244396388b8f"
   },
   "outputs": [
    {
     "data": {
      "image/png": "[encoded data removed]",
      "text/plain": [
       "<Figure size 1080x576 with 2 Axes>"
      ]
     },
     "metadata": {
      "needs_background": "light",
      "tags": []
     },
     "output_type": "display_data"
    }
   ],
   "source": [
    "fig = plt.figure(figsize = [15, 8])\n",
    "plt.subplot(1, 2, 1)\n",
    "sns.countplot(x = 'Class', data = data, palette = ['#56DB7F', '#DB5E56'])\n",
    "plt.xlabel(xlabel = 'Class', size = 14)\n",
    "plt.ylabel(ylabel = 'Frequency', size = 14)\n",
    "plt.title(label = 'Frequency Distribution', size = 14)\n",
    "\n",
    "plt.subplot(1, 2, 2)\n",
    "space = np.ones(2)/10\n",
    "data['Class'].value_counts().plot(kind = 'pie', explode = space, fontsize = 14, autopct = '%3.1f%%', wedgeprops = dict(width=0.15), \n",
    "                                       shadow = True, startangle = 160, figsize = [15, 8], legend = True, colors = ['#56DB7F', '#DB5E56'])\n",
    "plt.legend(['Not Fraud', 'Fraud'])\n",
    "plt.ylabel(ylabel = 'Class', size = 14)\n",
    "plt.title(label = 'Proportion Distribution', size = 14)\n",
    "plt.tight_layout(pad = 3.0)\n",
    "plt.suptitle(t = 'Frequency & Proportion of Fraudulent Transactions', y = 1.02, size = 16)\n",
    "plt.show()"
   ]
  },
  {
   "cell_type": "markdown",
   "metadata": {
    "id": "ZshbMHo3cXp0"
   },
   "source": [
    "**Observation:**\n",
    "\n",
    "- We can observe that there are only **few transactions** that are **fraudulent**.\n",
    "\n",
    "- Additionally, we can **observe class imbalance** in our data set.\n",
    "\n",
    "- This will pose a **big problem** while **performing model building**, but we **will see what we can do**."
   ]
  },
  {
   "cell_type": "markdown",
   "metadata": {
    "id": "Qng5IxLgfUYI"
   },
   "source": [
    "**<h4>Question: Is there any association between fraudulent and non-fraudulent transactions with respect to time?</h4>**\n",
    "\n",
    "- Before going further we shall convert the time feature (seconds) &rarr; feature (hours).\n",
    "\n",
    "- Then we will plot the histogram to find the association in the frauduent and non-fraudulent transactions."
   ]
  },
  {
   "cell_type": "code",
   "execution_count": null,
   "metadata": {
    "id": "tPNDLjIlgJLV"
   },
   "outputs": [],
   "source": [
    "# Creating a new feature Time in hours\n",
    "data['Time(in Hours)'] = data['Time'] / 3600"
   ]
  },
  {
   "cell_type": "code",
   "execution_count": null,
   "metadata": {
    "colab": {
     "base_uri": "https://localhost:8080/",
     "height": 459
    },
    "executionInfo": {
     "elapsed": 5033,
     "status": "ok",
     "timestamp": 1601365097419,
     "user": {
      "displayName": "Mukesh Kumar",
      "photoUrl": "",
      "userId": "01238672520445611335"
     },
     "user_tz": -330
    },
    "id": "SVNLn99JgzCB",
    "outputId": "d5382621-2a4e-490f-bbf8-4cb25477a6bb"
   },
   "outputs": [
    {
     "data": {
      "image/png": "[encoded data removed]",
      "text/plain": [
       "<Figure size 1440x504 with 2 Axes>"
      ]
     },
     "metadata": {
      "needs_background": "light",
      "tags": []
     },
     "output_type": "display_data"
    }
   ],
   "source": [
    "# Slicing data with non-fraudulent transactions\n",
    "nonFraud = data['Time(in Hours)'][data['Class'] == 0]\n",
    "\n",
    "# Slicing data with fraudulent transactions\n",
    "fraud = data['Time(in Hours)'][data['Class'] == 1]\n",
    "\n",
    "# Plotting the distribution of the sliced data\n",
    "fig, (ax1, ax2) = plt.subplots(nrows = 2, ncols = 1, sharex = True, figsize = (20, 7))\n",
    "sns.distplot(a = nonFraud, bins = 50, ax = ax1, color = 'green')\n",
    "ax1.set_title(label = 'Distribution of Non-Fraudulent Transactions', size = 14)\n",
    "ax1.set_xlabel(xlabel = '')\n",
    "sns.distplot(a = fraud, bins = 50, ax = ax2, color = 'red')\n",
    "ax2.set_title(label = 'Distribution of Fraudulent Transactions', size = 14)\n",
    "plt.show()"
   ]
  },
  {
   "cell_type": "markdown",
   "metadata": {
    "id": "iw-OSzQfkdzH"
   },
   "source": [
    "**Observation:**\n",
    "\n",
    "- We can **observe** that the **rate of transactions** is **picking up** during **day time**.\n",
    "\n",
    "- But number of **transactions** have **almost similar dependence** on **time** of the **day** for **both** the **classes**.\n",
    "\n",
    "- So, we can **believe** this **feature** **does not yield** any **predictive** **power** to **distinguish** between the two **classes**.\n",
    "\n",
    "- But **of course** we will **later test** this **assumption**. For now, I'll keep this feature in data frame. "
   ]
  },
  {
   "cell_type": "markdown",
   "metadata": {
    "id": "mtwY2OWPlSOH"
   },
   "source": [
    "**<h4>Question: Is there any association between fraudulent and non-fraudulent transactions with respect to Amount?</h4>**"
   ]
  },
  {
   "cell_type": "code",
   "execution_count": null,
   "metadata": {
    "colab": {
     "base_uri": "https://localhost:8080/",
     "height": 463
    },
    "executionInfo": {
     "elapsed": 5580,
     "status": "ok",
     "timestamp": 1601365098012,
     "user": {
      "displayName": "Mukesh Kumar",
      "photoUrl": "",
      "userId": "01238672520445611335"
     },
     "user_tz": -330
    },
    "id": "u_HeUQqei8Ri",
    "outputId": "cb6cb95e-8970-410e-f95c-483e3b92d044"
   },
   "outputs": [
    {
     "data": {
      "image/png": "[encoded data removed]",
      "text/plain": [
       "<Figure size 1440x504 with 2 Axes>"
      ]
     },
     "metadata": {
      "needs_background": "light",
      "tags": []
     },
     "output_type": "display_data"
    }
   ],
   "source": [
    "nonFraud = data['Amount'][data['Class'] == 0]\n",
    "fraud = data['Amount'][data['Class'] == 1]\n",
    "\n",
    "fig, (ax1, ax2) = plt.subplots(nrows = 2, ncols = 1, sharex = True, figsize = (20, 7))\n",
    "sns.distplot(a = nonFraud, bins = 50, kde = False, ax = ax1, color = 'green')\n",
    "ax1.set_title(label = 'Distribution of Non-Fraudulent Transactions', size = 14)\n",
    "ax1.set_xlabel(xlabel = '')\n",
    "sns.distplot(a = fraud, bins = 50, kde = False, ax = ax2, color = 'red')\n",
    "ax2.set_title(label = 'Distribution of Fraudulent Transactions', size = 14)\n",
    "ax2.set_xlabel(xlabel = 'Amount', size = 14)\n",
    "plt.show()"
   ]
  },
  {
   "cell_type": "markdown",
   "metadata": {
    "id": "BKLwMu_bnSL-"
   },
   "source": [
    "**Observation:**\n",
    "\n",
    "- We can **observe** that both **non-fraudulent** and **fraudulent transactions** are **under $\\$$1000**.\n",
    "\n",
    "- Very **few transactions** are there who are **greater than $\\$$2000** and let's see its count."
   ]
  },
  {
   "cell_type": "code",
   "execution_count": null,
   "metadata": {
    "colab": {
     "base_uri": "https://localhost:8080/",
     "height": 34
    },
    "executionInfo": {
     "elapsed": 5530,
     "status": "ok",
     "timestamp": 1601365098014,
     "user": {
      "displayName": "Mukesh Kumar",
      "photoUrl": "",
      "userId": "01238672520445611335"
     },
     "user_tz": -330
    },
    "id": "qFiekpPTqw6E",
    "outputId": "c331c564-5061-4a22-e073-7a8307b3fb04"
   },
   "outputs": [
    {
     "name": "stdout",
     "output_type": "stream",
     "text": [
      "Fraudulent Transactions > $1000: 1\n"
     ]
    }
   ],
   "source": [
    "print('Fraudulent Transactions > $1000:', len(fraud[fraud>1000]))"
   ]
  },
  {
   "cell_type": "markdown",
   "metadata": {
    "id": "UMPyfNlrrVD8"
   },
   "source": [
    "**Observation:** \n",
    "\n",
    "- There seems to be only **one transaction** that is **fraudulent** and **greater than $\\$$1000** in amount."
   ]
  },
  {
   "cell_type": "markdown",
   "metadata": {
    "id": "jviKwn24rmd7"
   },
   "source": [
    "**Note:** These are few question we need to analyze before moving further and if you want to dig deeper into this, feel free to do so..."
   ]
  },
  {
   "cell_type": "markdown",
   "metadata": {
    "id": "gbX3__T_sM5U"
   },
   "source": [
    "<a name = Section7></a>\n",
    "\n",
    "---\n",
    "# **7. Post Data Processing & Feature Selection**\n",
    "---\n",
    "- Now we will **perform standardization** and **feed it** to the **Random Forest**.\n",
    "\n",
    "- **Random Forest** will then **identify important features** for our model **using threshold**.\n",
    "\n",
    "- This threshold is **used over** the **information gain** which results in **reduction in impurity**.\n",
    "\n",
    "- And **finally** we will **split** our **data** for the **model development**."
   ]
  },
  {
   "cell_type": "markdown",
   "metadata": {
    "id": "l3xxXaYosp5H"
   },
   "source": [
    "<a name = Section71></a>\n",
    "### **7.1 Data Standardization**\n",
    "\n",
    "- Here we will perform standardization over the input features."
   ]
  },
  {
   "cell_type": "code",
   "execution_count": null,
   "metadata": {
    "colab": {
     "base_uri": "https://localhost:8080/",
     "height": 34
    },
    "executionInfo": {
     "elapsed": 5494,
     "status": "ok",
     "timestamp": 1601365098016,
     "user": {
      "displayName": "Mukesh Kumar",
      "photoUrl": "",
      "userId": "01238672520445611335"
     },
     "user_tz": -330
    },
    "id": "rmA_a1hEnkmN",
    "outputId": "c05ae4af-0aff-43bc-9348-de80d18ea1fd"
   },
   "outputs": [
    {
     "name": "stdout",
     "output_type": "stream",
     "text": [
      "Success!\n"
     ]
    }
   ],
   "source": [
    "# Saving all feature names to a list in a variable\n",
    "dataColumns = data.columns.to_list()\n",
    "\n",
    "# Removing Class feature as it is our target\n",
    "dataColumns.remove('Class')\n",
    "\n",
    "encoder = StandardScaler()\n",
    "\n",
    "for i in dataColumns:\n",
    "   data[i] = encoder.fit_transform(data[[i]])\n",
    "\n",
    "print('Success!')"
   ]
  },
  {
   "cell_type": "markdown",
   "metadata": {
    "id": "becXVphEx9o8"
   },
   "source": [
    "**Observation:**\n",
    "\n",
    "- Now that we have **successfully transformed and scaled** our data let's move ahead."
   ]
  },
  {
   "cell_type": "markdown",
   "metadata": {
    "id": "wKMO-FpqyJhz"
   },
   "source": [
    "<a name = Section72></a>\n",
    "### **7.2 Feature Selection using Random Forest**\n",
    "\n",
    "- Now in **real world**, it is very **rare** that **all** the **features** are **important** while developing the model.\n",
    "\n",
    "- So **instead** we **analyze** the **impact** of **input over the target** feature.\n",
    "\n",
    "- We do so by either performing **statistical** **tests** (Pearson, ANOVA, Chi-Square) or by using **Random Forest**.\n",
    "\n",
    "- **Random forests** are one the most **popular machine learning algorithms** because they **provide**:\n",
    " - **a good predictive performance**,\n",
    " - **low overfitting and**\n",
    " - **easy interpretability.**\n",
    "\n",
    "- This **interpretability** is **derived** from the **importance of each feature** on the tree decision **evaluated** on the **reduction** in **impurity**.\n",
    "\n",
    "- In other words, it is **easy to compute** how much **each feature is contributing** to the **decision**.\n",
    "\n",
    "- **Below** we have **implemented** a function namely, **SelectFromModel** **available** in **Sklearn** which **uses** the **base estimator** to **identify** **important features**.\n",
    "\n",
    "- The **importance** of feature is **determined** on the **basis** of **threshold** (a measure to calculate feature importance)."
   ]
  },
  {
   "cell_type": "code",
   "execution_count": null,
   "metadata": {
    "id": "zPLc73Gox60r"
   },
   "outputs": [],
   "source": [
    "X = data.drop('Class', axis = 1)\n",
    "y = data['Class']"
   ]
  },
  {
   "cell_type": "code",
   "execution_count": null,
   "metadata": {
    "colab": {
     "base_uri": "https://localhost:8080/",
     "height": 68
    },
    "executionInfo": {
     "elapsed": 6876,
     "status": "ok",
     "timestamp": 1601365099423,
     "user": {
      "displayName": "Mukesh Kumar",
      "photoUrl": "",
      "userId": "01238672520445611335"
     },
     "user_tz": -330
    },
    "id": "fB8LYuzbyYG9",
    "outputId": "c057c50a-eec2-4e46-a35d-43b85b8b69be"
   },
   "outputs": [
    {
     "name": "stdout",
     "output_type": "stream",
     "text": [
      "Total Features Selected are 8\n",
      "Threshold set by Model: 0.03\n",
      "Features: ['V3', 'V4', 'V9', 'V10', 'V11', 'V12', 'V14', 'V17']\n"
     ]
    }
   ],
   "source": [
    "# Have some patience, may take some time :)\n",
    "selector = SelectFromModel(RandomForestClassifier(n_estimators = 100, random_state = 42, n_jobs = -1))\n",
    "selector.fit(X, y)\n",
    "\n",
    "# Extracting list of important features\n",
    "selected_feat = X.columns[(selector.get_support())].tolist()\n",
    "\n",
    "print('Total Features Selected are', len(selected_feat))\n",
    "\n",
    "# Estimated by taking mean(default) of feature importance\n",
    "print('Threshold set by Model:', np.round(selector.threshold_, decimals = 2))\n",
    "print('Features:', selected_feat)"
   ]
  },
  {
   "cell_type": "markdown",
   "metadata": {
    "id": "Jug5rXOSy9Uk"
   },
   "source": [
    "**Visualization of Important Features:**\n",
    "\n",
    "- Below features are plotted against their relative importance (in %age),  of each feature."
   ]
  },
  {
   "cell_type": "code",
   "execution_count": null,
   "metadata": {
    "colab": {
     "base_uri": "https://localhost:8080/",
     "height": 736
    },
    "executionInfo": {
     "elapsed": 8925,
     "status": "ok",
     "timestamp": 1601365101483,
     "user": {
      "displayName": "Mukesh Kumar",
      "photoUrl": "",
      "userId": "01238672520445611335"
     },
     "user_tz": -330
    },
    "id": "7bY76yi6y6B3",
    "outputId": "ae573fe5-3cbc-4d67-e56c-6b63daeb1053"
   },
   "outputs": [
    {
     "data": {
      "image/png": "[encoded data removed]",
      "text/plain": [
       "<Figure size 1440x864 with 1 Axes>"
      ]
     },
     "metadata": {
      "needs_background": "light",
      "tags": []
     },
     "output_type": "display_data"
    }
   ],
   "source": [
    "figure = plt.figure(figsize = [20, 12])\n",
    "\n",
    "# If you don't want relative importance, use relative = False in below method\n",
    "viz = FeatureImportances(selector.estimator, relative = False)\n",
    "viz.fit(X, y)\n",
    "\n",
    "plt.xlabel('Relative Importance', size = 14)\n",
    "plt.ylabel('Features', size = 14)\n",
    "plt.title(label = 'Feature Importances', size = 16)\n",
    "plt.show()"
   ]
  },
  {
   "cell_type": "markdown",
   "metadata": {
    "id": "eFXBYX_msIan"
   },
   "source": [
    "**Observation:**\n",
    "\n",
    "- We can observe that random forest has finalized 8 features i.e. V3, V4, V9, V10, V11, V12, V14, V17.\n",
    "\n",
    "- Now we will move to data preparation for model development."
   ]
  },
  {
   "cell_type": "markdown",
   "metadata": {
    "id": "NLHnQO0r8vj8"
   },
   "source": [
    "<a name = Section73></a>\n",
    "### **7.3 Data Preparation**\n",
    "\n",
    "- Now we will **split** our **data** in **training** and **testing** part for further development."
   ]
  },
  {
   "cell_type": "code",
   "execution_count": null,
   "metadata": {
    "id": "tY3teL_l8vRH"
   },
   "outputs": [],
   "source": [
    "X = data[selected_feat]\n",
    "y = data['Class']"
   ]
  },
  {
   "cell_type": "code",
   "execution_count": null,
   "metadata": {
    "colab": {
     "base_uri": "https://localhost:8080/",
     "height": 51
    },
    "executionInfo": {
     "elapsed": 1863,
     "status": "ok",
     "timestamp": 1601368855385,
     "user": {
      "displayName": "Mukesh Kumar",
      "photoUrl": "",
      "userId": "01238672520445611335"
     },
     "user_tz": -330
    },
    "id": "Q_fsPzQcBUcR",
    "outputId": "46547738-2130-45fd-dac1-309d2a4569a0"
   },
   "outputs": [
    {
     "name": "stdout",
     "output_type": "stream",
     "text": [
      "Training Data Shape: (8962, 8) (8962,)\n",
      "Testing Data Shape: (996, 8) (996,)\n"
     ]
    }
   ],
   "source": [
    "X_train, X_test, y_train, y_test = train_test_split(X, y, test_size = 0.1, random_state = 42, stratify = y)\n",
    "\n",
    "print('Training Data Shape:', X_train.shape, y_train.shape)\n",
    "print('Testing Data Shape:', X_test.shape, y_test.shape)"
   ]
  },
  {
   "cell_type": "markdown",
   "metadata": {
    "id": "PBz50xP-Ba67"
   },
   "source": [
    "<a name = Section8></a>\n",
    "\n",
    "---\n",
    "# **8. Model Development & Evaluation**\n",
    "---\n",
    "\n",
    "- In this section we will **develop Gaussian Naive Bayes using important features** and **tune** our **model if required**.\n",
    "\n",
    "- Then we will **analyze the results** obtained and **make our observation**.\n",
    "\n",
    "- For **evaluation purpose** we will **focus** on **precision and recall value** for **positive class** i.e. fraudulent class.\n",
    "\n",
    "- **Remember** that **we want generalize results** i.e. same results or error on testing data as that of training data.\n",
    "\n",
    "- We will **observer** **whether** the **SMOTE** is **required** or not **because** we want to **focus** on **precision and recall** values of **positive class**."
   ]
  },
  {
   "cell_type": "code",
   "execution_count": null,
   "metadata": {
    "id": "zbQdB_-uBngR"
   },
   "outputs": [],
   "source": [
    "def plot_precision_recall(y_true, y_pred, train_or_test):\n",
    "  '''\n",
    "  y_true: Acutal values of the target\n",
    "  y_pred: Predicted values of the target. Either predict_proba or decision_function\n",
    "  line_show: Plot avergae values \"precision\" or \"recall\"\n",
    "  train_or_test: Train Data or Test Data\n",
    "  '''\n",
    "  precisions, recalls, thresholds = precision_recall_curve(y_true = y_true, probas_pred = y_pred)\n",
    "\n",
    "  average_precision = np.mean(precisions)\n",
    "  average_recall = np.mean(recalls)\n",
    "\n",
    "  sns.lineplot(x = recalls, y = precisions, linewidth = 2, ci = None)\n",
    "  plt.plot([0, 1], [average_precision, average_precision], 'r-')\n",
    "  plt.plot([average_recall, average_recall], [0, 1], 'g-')\n",
    "  plt.xlabel('Recall', fontsize = 14)\n",
    "  plt.xticks(ticks = [0, 0.1, 0.2, 0.3, 0.4, 0.5, 0.6, 0.7, 0.8, 0.9, 1.0])\n",
    "  plt.yticks(ticks = [0, 0.1, 0.2, 0.3, 0.4, 0.5, 0.6, 0.7, 0.8, 0.9, 1.0])\n",
    "  plt.ylabel('Precision', fontsize = 14)\n",
    "  plt.title(train_or_test, fontsize = 16)\n",
    "  plt.legend(labels = ['Binary PR Curve', 'AP {:.2f}'.format(average_precision), 'AR {:.2f}'.format(average_recall)])\n",
    "  plt.grid(True)"
   ]
  },
  {
   "cell_type": "markdown",
   "metadata": {
    "id": "KhazCN09BsMr"
   },
   "source": [
    "<a name = Section81></a>\n",
    "\n",
    "## **8.1 Naive Bayes - Baseline Model**"
   ]
  },
  {
   "cell_type": "code",
   "execution_count": null,
   "metadata": {
    "colab": {
     "base_uri": "https://localhost:8080/",
     "height": 468
    },
    "executionInfo": {
     "elapsed": 1497,
     "status": "ok",
     "timestamp": 1601369063611,
     "user": {
      "displayName": "Mukesh Kumar",
      "photoUrl": "",
      "userId": "01238672520445611335"
     },
     "user_tz": -330
    },
    "id": "dZnLg2GdBqOc",
    "outputId": "f4566bc8-6df7-4bf0-91c0-68ed346efa8b"
   },
   "outputs": [
    {
     "data": {
      "image/png": "[encoded data removed]",
      "text/plain": [
       "<Figure size 1080x504 with 4 Axes>"
      ]
     },
     "metadata": {
      "needs_background": "light",
      "tags": []
     },
     "output_type": "display_data"
    }
   ],
   "source": [
    "naive = GaussianNB()\n",
    "naive.fit(X_train, y_train)\n",
    "\n",
    "y_train_pred_count = naive.predict(X_train)\n",
    "y_test_pred_count = naive.predict(X_test)\n",
    "\n",
    "y_train_pred_proba = naive.predict_proba(X_train)\n",
    "y_test_pred_proba = naive.predict_proba(X_test)\n",
    "\n",
    "fig, (ax1, ax2) = plt.subplots(nrows = 1, ncols = 2, sharex = False, figsize=(15, 7))\n",
    "plot_confusion_matrix(estimator = naive, X = X_train, y_true = y_train, values_format = '.7g', cmap = 'YlGnBu', ax = ax1)\n",
    "plot_confusion_matrix(estimator = naive, X = X_test, y_true = y_test, values_format = '.7g', cmap = 'YlGnBu', ax = ax2)\n",
    "ax1.set_title(label = 'Train Data', size = 14)\n",
    "ax2.set_title(label = 'Test Data', size = 14)\n",
    "ax1.grid(b = False)\n",
    "ax2.grid(b = False)\n",
    "plt.suptitle(t = 'Confusion Matrix', size = 16)\n",
    "plt.show()"
   ]
  },
  {
   "cell_type": "markdown",
   "metadata": {
    "id": "awyUmLeYGmZz"
   },
   "source": [
    "**Observation:**\n",
    "\n",
    "- **Train Data:**\n",
    "  - Model predicted **8881 instances correctly** for **negative class** while **33 instances** were predicted **correctly** for **positive class**.\n",
    "  - Model **identified 1 instance negative but in actual** they **were positive**.\n",
    "  - Model **identified 47 instances positive but in actual** they **were negative**.\n",
    "\n",
    "- **Test Data:**\n",
    "  - Model predicted **986 instances correctly** for **negative class** while **4 instances** were predicted **correctly** for **positive class**.\n",
    "  - Model **identified 0 instances negative but in actual** they **were positive**.\n",
    "  - Model **identified 6 instances positive but in actual** they **were negative**."
   ]
  },
  {
   "cell_type": "code",
   "execution_count": null,
   "metadata": {
    "id": "0lCtgaQTe8Zs"
   },
   "outputs": [],
   "source": [
    "def ClassificationReport():\n",
    "  logistic_report_train = classification_report(y_train, y_train_pred_count)\n",
    "  logistic_report_test = classification_report(y_test, y_test_pred_count)\n",
    "  print('                    Training Report          ')\n",
    "  print(logistic_report_train)\n",
    "  print('                    Testing Report           ')\n",
    "  print(logistic_report_test)"
   ]
  },
  {
   "cell_type": "code",
   "execution_count": null,
   "metadata": {
    "colab": {
     "base_uri": "https://localhost:8080/",
     "height": 357
    },
    "executionInfo": {
     "elapsed": 1098,
     "status": "ok",
     "timestamp": 1601369077650,
     "user": {
      "displayName": "Mukesh Kumar",
      "photoUrl": "",
      "userId": "01238672520445611335"
     },
     "user_tz": -330
    },
    "id": "BC5XRYuJCOqt",
    "outputId": "641b189d-0741-4874-bf17-7880c29ad73a"
   },
   "outputs": [
    {
     "name": "stdout",
     "output_type": "stream",
     "text": [
      "                    Training Report          \n",
      "              precision    recall  f1-score   support\n",
      "\n",
      "           0       1.00      0.99      1.00      8928\n",
      "           1       0.41      0.97      0.58        34\n",
      "\n",
      "    accuracy                           0.99      8962\n",
      "   macro avg       0.71      0.98      0.79      8962\n",
      "weighted avg       1.00      0.99      1.00      8962\n",
      "\n",
      "                    Testing Report           \n",
      "              precision    recall  f1-score   support\n",
      "\n",
      "           0       1.00      0.99      1.00       992\n",
      "           1       0.40      1.00      0.57         4\n",
      "\n",
      "    accuracy                           0.99       996\n",
      "   macro avg       0.70      1.00      0.78       996\n",
      "weighted avg       1.00      0.99      1.00       996\n",
      "\n"
     ]
    }
   ],
   "source": [
    "ClassificationReport()"
   ]
  },
  {
   "cell_type": "markdown",
   "metadata": {
    "id": "4zL1siabCQZr"
   },
   "source": [
    "**Observation:**\n",
    "\n",
    "- We can **observe** that **model** is **performing** pretty **well** on **negative class** i.e. non-fraudulent but **not good** on **positive class**.\n",
    "\n",
    "- The **precision** score is pretty **low** in both **training** data as well as on **testing** data."
   ]
  },
  {
   "cell_type": "code",
   "execution_count": null,
   "metadata": {
    "colab": {
     "base_uri": "https://localhost:8080/",
     "height": 497
    },
    "executionInfo": {
     "elapsed": 1823,
     "status": "ok",
     "timestamp": 1601369092108,
     "user": {
      "displayName": "Mukesh Kumar",
      "photoUrl": "",
      "userId": "01238672520445611335"
     },
     "user_tz": -330
    },
    "id": "QzjpmP6oCQM4",
    "outputId": "16715cfd-7b35-452f-e219-89a5fba461a6"
   },
   "outputs": [
    {
     "data": {
      "image/png": "[encoded data removed]",
      "text/plain": [
       "<Figure size 1080x504 with 2 Axes>"
      ]
     },
     "metadata": {
      "needs_background": "light",
      "tags": []
     },
     "output_type": "display_data"
    }
   ],
   "source": [
    "figure = plt.figure(figsize = [15, 7])\n",
    "plt.subplot(1, 2, 1)\n",
    "plot_precision_recall(y_true = y_train, y_pred = y_train_pred_proba[:,1], train_or_test ='Train Data')\n",
    "\n",
    "plt.subplot(1, 2, 2)\n",
    "plot_precision_recall(y_true = y_test, y_pred = y_test_pred_proba[:, 1], train_or_test = 'Test Data')\n",
    "\n",
    "plt.suptitle('Precision & Recall Curve', size = 16)\n",
    "plt.show()"
   ]
  },
  {
   "cell_type": "markdown",
   "metadata": {
    "id": "wJni61CiH14r"
   },
   "source": [
    "**Observation:**\n",
    "\n",
    "- We can **observe** that **average precision** and **average recall** scores are **also low**.\n",
    "\n",
    "- To improve the scores over the model we **need** to **oversample** the **data**.\n",
    "\n",
    "- In the next section we **will implement** a **SMOTE technique** which will help us in **improving** the **model** **score**."
   ]
  },
  {
   "cell_type": "markdown",
   "metadata": {
    "id": "iXAaN4ZIF80T"
   },
   "source": [
    "<a name = Section82></a>\n",
    "\n",
    "## **8.2 SMOTE Technique & its Implementation**\n",
    "\n",
    "- SMOTE refers to **Synthetic Minority Oversampling Technique**.\n",
    "\n",
    "- It **aims** to **balance class distribution** by **randomly** **increasing minority class** examples **by replicating** them. \n",
    "\n",
    "- It **synthesises** **new minority instances** **between** **existing** minority **instances**. \n",
    "\n",
    "- **It generates the virtual training records by linear interpolation for the minority class.** \n",
    "\n",
    "- These synthetic training **records** are **generated** by **randomly** selection*.\n",
    "\n",
    "- It is performed by one or more of the k-nearest neighbors for each **example in the minority class**. \n",
    "\n",
    "- **After** the **oversampling process**, the **data is reconstructed** and several classification models can be applied for the processed data.\n",
    "\n",
    "<br> \n",
    "**<center><h3>Working of SMOTE</h3></center>**\n",
    "\n",
    "<center><img src = \"https://raw.githubusercontent.com/insaid2018/Term-3/master/Images/SMOTE.gif\"></center>"
   ]
  },
  {
   "cell_type": "markdown",
   "metadata": {
    "id": "4mmTFFV-E54S"
   },
   "source": [
    "**Before Implimenting SMOTE**"
   ]
  },
  {
   "cell_type": "code",
   "execution_count": null,
   "metadata": {
    "colab": {
     "base_uri": "https://localhost:8080/",
     "height": 51
    },
    "executionInfo": {
     "elapsed": 1291,
     "status": "ok",
     "timestamp": 1601369784642,
     "user": {
      "displayName": "Mukesh Kumar",
      "photoUrl": "",
      "userId": "01238672520445611335"
     },
     "user_tz": -330
    },
    "id": "cVPTJuvaDWDH",
    "outputId": "7be1e6c9-b3cf-436b-8379-1c9db716c89c"
   },
   "outputs": [
    {
     "name": "stdout",
     "output_type": "stream",
     "text": [
      "Training Data Shape: (8962, 8) (8962,)\n",
      "Testing Data Shape: (996, 8) (996,)\n"
     ]
    }
   ],
   "source": [
    "print('Training Data Shape:', X_train.shape, y_train.shape)\n",
    "print('Testing Data Shape:', X_test.shape, y_test.shape)"
   ]
  },
  {
   "cell_type": "markdown",
   "metadata": {
    "id": "EodE2HkAE8CO"
   },
   "source": [
    "**Performing SMOTE Operation**"
   ]
  },
  {
   "cell_type": "code",
   "execution_count": null,
   "metadata": {
    "id": "dnum2P0YE8at"
   },
   "outputs": [],
   "source": [
    "# Have some patience, may take some time\n",
    "\n",
    "sm = SMOTE(random_state = 42, ratio = 1)\n",
    "X1, y1 = sm.fit_sample(X, y)\n",
    "\n",
    "X_new = pd.DataFrame(data = X1, columns = X.columns)\n",
    "\n",
    "X_train, X_test, y_train, y_test = train_test_split(X_new, y1, test_size = 0.2, random_state = 42, stratify = y1)"
   ]
  },
  {
   "cell_type": "code",
   "execution_count": null,
   "metadata": {
    "colab": {
     "base_uri": "https://localhost:8080/",
     "height": 68
    },
    "executionInfo": {
     "elapsed": 1228,
     "status": "ok",
     "timestamp": 1601369937710,
     "user": {
      "displayName": "Mukesh Kumar",
      "photoUrl": "",
      "userId": "01238672520445611335"
     },
     "user_tz": -330
    },
    "id": "gW6uCxbqFZzm",
    "outputId": "fc7e6c21-eb45-48ec-9136-8fab7de26b6a"
   },
   "outputs": [
    {
     "data": {
      "text/plain": [
       "1    9920\n",
       "0    9920\n",
       "dtype: int64"
      ]
     },
     "execution_count": 36,
     "metadata": {
      "tags": []
     },
     "output_type": "execute_result"
    }
   ],
   "source": [
    "# Target Sample Verification\n",
    "pd.Series(y1).value_counts()"
   ]
  },
  {
   "cell_type": "markdown",
   "metadata": {
    "id": "BTmSj-dvFEcr"
   },
   "source": [
    "**After Implimenting SMOTE**"
   ]
  },
  {
   "cell_type": "code",
   "execution_count": null,
   "metadata": {
    "colab": {
     "base_uri": "https://localhost:8080/",
     "height": 51
    },
    "executionInfo": {
     "elapsed": 1197,
     "status": "ok",
     "timestamp": 1601369842025,
     "user": {
      "displayName": "Mukesh Kumar",
      "photoUrl": "",
      "userId": "01238672520445611335"
     },
     "user_tz": -330
    },
    "id": "gxvQvQ-XFELj",
    "outputId": "c2f3a3e7-90ff-482b-b6b8-61eb72cbed18"
   },
   "outputs": [
    {
     "name": "stdout",
     "output_type": "stream",
     "text": [
      "Training Data Shape: (15872, 8) (15872,)\n",
      "Testing Data Shape: (3968, 8) (3968,)\n"
     ]
    }
   ],
   "source": [
    "print('Training Data Shape:', X_train.shape, y_train.shape)\n",
    "print('Testing Data Shape:', X_test.shape, y_test.shape)"
   ]
  },
  {
   "cell_type": "markdown",
   "metadata": {
    "id": "88EtRFU2DFSE"
   },
   "source": [
    "<a name = Section83></a>\n",
    "\n",
    "## **8.3 Naive Bayes - Oversampled Model**"
   ]
  },
  {
   "cell_type": "code",
   "execution_count": null,
   "metadata": {
    "colab": {
     "base_uri": "https://localhost:8080/",
     "height": 462
    },
    "executionInfo": {
     "elapsed": 1374,
     "status": "ok",
     "timestamp": 1601370123000,
     "user": {
      "displayName": "Mukesh Kumar",
      "photoUrl": "",
      "userId": "01238672520445611335"
     },
     "user_tz": -330
    },
    "id": "LFMhqpfUFz4V",
    "outputId": "25072f17-9aeb-4262-c4f5-ca4bb56fbeb6"
   },
   "outputs": [
    {
     "data": {
      "image/png": "[encoded data removed]",
      "text/plain": [
       "<Figure size 1080x504 with 4 Axes>"
      ]
     },
     "metadata": {
      "needs_background": "light",
      "tags": []
     },
     "output_type": "display_data"
    }
   ],
   "source": [
    "naive = GaussianNB()\n",
    "naive.fit(X_train, y_train)\n",
    "\n",
    "y_train_pred_count = naive.predict(X_train)\n",
    "y_test_pred_count = naive.predict(X_test)\n",
    "\n",
    "y_train_pred_proba = naive.predict_proba(X_train)\n",
    "y_test_pred_proba = naive.predict_proba(X_test)\n",
    "\n",
    "fig, (ax1, ax2) = plt.subplots(nrows = 1, ncols = 2, sharex = False, figsize=(15, 7))\n",
    "plot_confusion_matrix(estimator = naive, X = X_train, y_true = y_train, values_format = '.7g', cmap = 'YlGnBu', ax = ax1)\n",
    "plot_confusion_matrix(estimator = naive, X = X_test, y_true = y_test, values_format = '.7g', cmap = 'YlGnBu', ax = ax2)\n",
    "ax1.set_title(label = 'Train Data', size = 14)\n",
    "ax2.set_title(label = 'Test Data', size = 14)\n",
    "ax1.grid(b = False)\n",
    "ax2.grid(b = False)\n",
    "plt.suptitle(t = 'Confusion Matrix', size = 16)\n",
    "plt.show()"
   ]
  },
  {
   "cell_type": "markdown",
   "metadata": {
    "id": "ciYzgX-YHCHl"
   },
   "source": [
    "**Observation:**\n",
    "\n",
    "- **Train Data:**\n",
    "  - Model predicted **7857 instances correctly** for **negative class** while **7847 instances** were predicted **correctly** for **positive class**.\n",
    "  - Model **identified 89 instances negative but in actual** they **were positive**.\n",
    "  - Model **identified 79 instances positive but in actual** they **were negative**.\n",
    "\n",
    "- **Test Data:**\n",
    "  - Model predicted **1957 instances correctly** for **negative class** while **1951 instances** were predicted **correctly** for **positive class**.\n",
    "  - Model **identified 33 instances negative but in actual** they **were positive**.\n",
    "  - Model **identified 27 instances positive but in actual** they **were negative**."
   ]
  },
  {
   "cell_type": "code",
   "execution_count": null,
   "metadata": {
    "colab": {
     "base_uri": "https://localhost:8080/",
     "height": 357
    },
    "executionInfo": {
     "elapsed": 1164,
     "status": "ok",
     "timestamp": 1601370140045,
     "user": {
      "displayName": "Mukesh Kumar",
      "photoUrl": "",
      "userId": "01238672520445611335"
     },
     "user_tz": -330
    },
    "id": "O20q_NH5GP4q",
    "outputId": "b15b39a6-34c2-4ecf-dedc-a379b43f23ce"
   },
   "outputs": [
    {
     "name": "stdout",
     "output_type": "stream",
     "text": [
      "                    Training Report          \n",
      "              precision    recall  f1-score   support\n",
      "\n",
      "           0       0.99      0.99      0.99      7936\n",
      "           1       0.99      0.99      0.99      7936\n",
      "\n",
      "    accuracy                           0.99     15872\n",
      "   macro avg       0.99      0.99      0.99     15872\n",
      "weighted avg       0.99      0.99      0.99     15872\n",
      "\n",
      "                    Testing Report           \n",
      "              precision    recall  f1-score   support\n",
      "\n",
      "           0       0.98      0.99      0.98      1984\n",
      "           1       0.99      0.98      0.98      1984\n",
      "\n",
      "    accuracy                           0.98      3968\n",
      "   macro avg       0.98      0.98      0.98      3968\n",
      "weighted avg       0.98      0.98      0.98      3968\n",
      "\n"
     ]
    }
   ],
   "source": [
    "logistic_report_train = classification_report(y_train, y_train_pred_count)\n",
    "logistic_report_test = classification_report(y_test, y_test_pred_count)\n",
    "print('                    Training Report          ')\n",
    "print(logistic_report_train)\n",
    "print('                    Testing Report           ')\n",
    "print(logistic_report_test)"
   ]
  },
  {
   "cell_type": "markdown",
   "metadata": {
    "id": "fZNbae-FNIKs"
   },
   "source": [
    "**Observation:**\n",
    "\n",
    "- We can **observe** that how **better** our **metrics** are **looking now**.\n",
    "\n",
    "- The **precision** and **recall** **scores** have been **improved** for the **positive class**."
   ]
  },
  {
   "cell_type": "code",
   "execution_count": null,
   "metadata": {
    "colab": {
     "base_uri": "https://localhost:8080/",
     "height": 497
    },
    "executionInfo": {
     "elapsed": 1796,
     "status": "ok",
     "timestamp": 1601370152914,
     "user": {
      "displayName": "Mukesh Kumar",
      "photoUrl": "",
      "userId": "01238672520445611335"
     },
     "user_tz": -330
    },
    "id": "0Wf0Q74OGTRN",
    "outputId": "5a654175-7528-49d2-fcaf-5483b5b49beb"
   },
   "outputs": [
    {
     "data": {
      "image/png": "[encoded data removed]",
      "text/plain": [
       "<Figure size 1080x504 with 2 Axes>"
      ]
     },
     "metadata": {
      "needs_background": "light",
      "tags": []
     },
     "output_type": "display_data"
    }
   ],
   "source": [
    "figure = plt.figure(figsize = [15, 7])\n",
    "plt.subplot(1, 2, 1)\n",
    "plot_precision_recall(y_true = y_train, y_pred = y_train_pred_proba[:,1], train_or_test ='Train Data')\n",
    "\n",
    "plt.subplot(1, 2, 2)\n",
    "plot_precision_recall(y_true = y_test, y_pred = y_test_pred_proba[:, 1], train_or_test = 'Test Data')\n",
    "\n",
    "plt.suptitle('Precision & Recall Curve', size = 16)\n",
    "plt.show()"
   ]
  },
  {
   "cell_type": "markdown",
   "metadata": {
    "id": "QkmxmdFWNapr"
   },
   "source": [
    "**Observation:**\n",
    "\n",
    "- Our **average precision** and **average recall** scores have also been **improved** to a **great extent**."
   ]
  },
  {
   "cell_type": "markdown",
   "metadata": {
    "id": "nlrYGzGMQJAS"
   },
   "source": [
    "\n",
    "**Note:** You can try out other models with respect to the Naive Bayes and find much better solution."
   ]
  },
  {
   "cell_type": "markdown",
   "metadata": {
    "id": "GiV_JoEoGb_L"
   },
   "source": [
    "<a name = Section9></a>\n",
    "\n",
    "---\n",
    "# **9. Conclusion**\n",
    "---\n",
    "\n",
    "- We **studied in breifly about the data**, its **characteristics** and its **distribution**.\n",
    "\n",
    "- We **explored** some **questions related** to fraudulent and non-fraudulent transactions.\n",
    "\n",
    "- We **investigated in depth about the features** which to **retain** and which to **discard**.\n",
    "\n",
    "- We **performed model development** **with and without oversampling technique** known as SMOTE.\n",
    "\n",
    "- We **observed low precision and recall scores** with **baseline model** but **great results with oversampled model**.\n",
    "\n",
    "- This **model** now can **help us** in **identifying** which transactions are fraudulent and which are not. \n",
    "\n",
    "- Additionally, this **model** will **help** business **saving** **a lot of resources** (money, human resources etc.)."
   ]
  }
 ],
 "metadata": {
  "colab": {
   "collapsed_sections": [],
   "name": "Naive Bayes.ipynb",
   "provenance": []
  },
  "kernelspec": {
   "display_name": "Python 3",
   "language": "python",
   "name": "python3"
  },
  "language_info": {
   "codemirror_mode": {
    "name": "ipython",
    "version": 3
   },
   "file_extension": ".py",
   "mimetype": "text/x-python",
   "name": "python",
   "nbconvert_exporter": "python",
   "pygments_lexer": "ipython3",
   "version": "3.8.5"
  }
 },
 "nbformat": 4,
 "nbformat_minor": 4
}

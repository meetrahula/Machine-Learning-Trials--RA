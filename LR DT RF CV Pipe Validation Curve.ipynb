{
 "cells": [
  {
   "cell_type": "code",
   "execution_count": 2,
   "metadata": {},
   "outputs": [],
   "source": [
    "import numpy as np\n",
    "import pandas as pd\n",
    "from sklearn.model_selection import train_test_split\n",
    "from sklearn.linear_model import LinearRegression\n",
    "from sklearn.tree import DecisionTreeRegressor\n",
    "from sklearn.ensemble import RandomForestRegressor\n",
    "from sklearn.model_selection import validation_curve\n",
    "from sklearn.metrics import confusion_matrix\n",
    "from sklearn.metrics import plot_confusion_matrix\n",
    "from sklearn.model_selection import cross_val_score\n",
    "from sklearn.model_selection import GridSearchCV\n",
    "import seaborn as sns\n",
    "import matplotlib.pyplot as plt"
   ]
  },
  {
   "cell_type": "code",
   "execution_count": 3,
   "metadata": {},
   "outputs": [
    {
     "data": {
      "text/html": [
       "<div>\n",
       "<style scoped>\n",
       "    .dataframe tbody tr th:only-of-type {\n",
       "        vertical-align: middle;\n",
       "    }\n",
       "\n",
       "    .dataframe tbody tr th {\n",
       "        vertical-align: top;\n",
       "    }\n",
       "\n",
       "    .dataframe thead th {\n",
       "        text-align: right;\n",
       "    }\n",
       "</style>\n",
       "<table border=\"1\" class=\"dataframe\">\n",
       "  <thead>\n",
       "    <tr style=\"text-align: right;\">\n",
       "      <th></th>\n",
       "      <th>cement</th>\n",
       "      <th>slag</th>\n",
       "      <th>flyash</th>\n",
       "      <th>water</th>\n",
       "      <th>superplasticizer</th>\n",
       "      <th>coarseaggregate</th>\n",
       "      <th>fineaggregate</th>\n",
       "      <th>age</th>\n",
       "      <th>csMPa</th>\n",
       "    </tr>\n",
       "  </thead>\n",
       "  <tbody>\n",
       "    <tr>\n",
       "      <th>0</th>\n",
       "      <td>540.0</td>\n",
       "      <td>0.0</td>\n",
       "      <td>0.0</td>\n",
       "      <td>162.0</td>\n",
       "      <td>2.5</td>\n",
       "      <td>1040.0</td>\n",
       "      <td>676.0</td>\n",
       "      <td>28</td>\n",
       "      <td>79.99</td>\n",
       "    </tr>\n",
       "    <tr>\n",
       "      <th>1</th>\n",
       "      <td>540.0</td>\n",
       "      <td>0.0</td>\n",
       "      <td>0.0</td>\n",
       "      <td>162.0</td>\n",
       "      <td>2.5</td>\n",
       "      <td>1055.0</td>\n",
       "      <td>676.0</td>\n",
       "      <td>28</td>\n",
       "      <td>61.89</td>\n",
       "    </tr>\n",
       "    <tr>\n",
       "      <th>2</th>\n",
       "      <td>332.5</td>\n",
       "      <td>142.5</td>\n",
       "      <td>0.0</td>\n",
       "      <td>228.0</td>\n",
       "      <td>0.0</td>\n",
       "      <td>932.0</td>\n",
       "      <td>594.0</td>\n",
       "      <td>270</td>\n",
       "      <td>40.27</td>\n",
       "    </tr>\n",
       "    <tr>\n",
       "      <th>3</th>\n",
       "      <td>332.5</td>\n",
       "      <td>142.5</td>\n",
       "      <td>0.0</td>\n",
       "      <td>228.0</td>\n",
       "      <td>0.0</td>\n",
       "      <td>932.0</td>\n",
       "      <td>594.0</td>\n",
       "      <td>365</td>\n",
       "      <td>41.05</td>\n",
       "    </tr>\n",
       "    <tr>\n",
       "      <th>4</th>\n",
       "      <td>198.6</td>\n",
       "      <td>132.4</td>\n",
       "      <td>0.0</td>\n",
       "      <td>192.0</td>\n",
       "      <td>0.0</td>\n",
       "      <td>978.4</td>\n",
       "      <td>825.5</td>\n",
       "      <td>360</td>\n",
       "      <td>44.30</td>\n",
       "    </tr>\n",
       "  </tbody>\n",
       "</table>\n",
       "</div>"
      ],
      "text/plain": [
       "   cement   slag  flyash  water  superplasticizer  coarseaggregate  \\\n",
       "0   540.0    0.0     0.0  162.0               2.5           1040.0   \n",
       "1   540.0    0.0     0.0  162.0               2.5           1055.0   \n",
       "2   332.5  142.5     0.0  228.0               0.0            932.0   \n",
       "3   332.5  142.5     0.0  228.0               0.0            932.0   \n",
       "4   198.6  132.4     0.0  192.0               0.0            978.4   \n",
       "\n",
       "   fineaggregate  age  csMPa  \n",
       "0          676.0   28  79.99  \n",
       "1          676.0   28  61.89  \n",
       "2          594.0  270  40.27  \n",
       "3          594.0  365  41.05  \n",
       "4          825.5  360  44.30  "
      ]
     },
     "execution_count": 3,
     "metadata": {},
     "output_type": "execute_result"
    }
   ],
   "source": [
    "data = pd.read_csv('G:/Rahul Data/GCD Related/INSAID/Dataset/Concrete_Data_Yeh.csv')\n",
    "data.head()"
   ]
  },
  {
   "cell_type": "code",
   "execution_count": 4,
   "metadata": {},
   "outputs": [
    {
     "name": "stdout",
     "output_type": "stream",
     "text": [
      "   cement   slag  flyash  water  superplasticizer  coarseaggregate  \\\n",
      "0   540.0    0.0     0.0  162.0               2.5           1040.0   \n",
      "1   540.0    0.0     0.0  162.0               2.5           1055.0   \n",
      "2   332.5  142.5     0.0  228.0               0.0            932.0   \n",
      "3   332.5  142.5     0.0  228.0               0.0            932.0   \n",
      "4   198.6  132.4     0.0  192.0               0.0            978.4   \n",
      "\n",
      "   fineaggregate  age  \n",
      "0          676.0   28  \n",
      "1          676.0   28  \n",
      "2          594.0  270  \n",
      "3          594.0  365  \n",
      "4          825.5  360  \n",
      "\n",
      "\n",
      "0    79.99\n",
      "1    61.89\n",
      "2    40.27\n",
      "3    41.05\n",
      "4    44.30\n",
      "Name: csMPa, dtype: float64\n"
     ]
    }
   ],
   "source": [
    "X = data.drop('csMPa',axis=1)\n",
    "y = data['csMPa']\n",
    "print(X.head())\n",
    "print('\\n')\n",
    "print(y.head())"
   ]
  },
  {
   "cell_type": "code",
   "execution_count": 5,
   "metadata": {},
   "outputs": [
    {
     "name": "stdout",
     "output_type": "stream",
     "text": [
      "Coefficients Are: \n",
      "[ 0.12226049  0.10551064  0.09218552 -0.15212926  0.25469802  0.02128236\n",
      "  0.02197247  0.11598932]\n",
      "\n",
      "\n",
      "Training Data - R2 Score\n",
      "0.6210697467843866\n",
      "Testing R2 Score\n",
      "0.5911879648718987\n"
     ]
    }
   ],
   "source": [
    "import sklearn.metrics\n",
    "\n",
    "X_train,X_test,y_train,y_test = train_test_split(X,y,test_size=0.20,random_state=10)\n",
    "\n",
    "lr = LinearRegression()\n",
    "lr.fit(X_train,y_train)\n",
    "lr.predict(X_test)\n",
    "\n",
    "print('Coefficients Are: ')\n",
    "print(lr.coef_)\n",
    "print('\\n')\n",
    "print('Training Data - R2 Score')\n",
    "print(lr.score(X_train,y_train))\n",
    "print('Testing R2 Score')\n",
    "print(lr.score(X_test,y_test))"
   ]
  },
  {
   "cell_type": "code",
   "execution_count": 6,
   "metadata": {},
   "outputs": [
    {
     "name": "stdout",
     "output_type": "stream",
     "text": [
      "Training Data - R2 Score\n",
      "0.6210697467843866\n",
      "Testing R2 Score\n",
      "0.5911879648718985\n"
     ]
    }
   ],
   "source": [
    "from sklearn.preprocessing import StandardScaler\n",
    "from sklearn.pipeline import Pipeline\n",
    "\n",
    "pipe = Pipeline(steps=[('sc',StandardScaler()),('lr',LinearRegression())])\n",
    "\n",
    "pipe.fit(X_train,y_train)\n",
    "pipe.predict(X_test)\n",
    "\n",
    "print('Training Data - R2 Score')\n",
    "print(pipe.score(X_train,y_train))\n",
    "print('Testing R2 Score')\n",
    "print(pipe.score(X_test,y_test))"
   ]
  },
  {
   "cell_type": "code",
   "execution_count": 7,
   "metadata": {},
   "outputs": [
    {
     "data": {
      "image/png": "[encoded data removed]",
      "text/plain": [
       "<Figure size 1080x504 with 1 Axes>"
      ]
     },
     "metadata": {
      "needs_background": "light"
     },
     "output_type": "display_data"
    }
   ],
   "source": [
    "param_rang = np.arange(1,20,1)\n",
    "\n",
    "train_score,test_score = validation_curve(DecisionTreeRegressor(),X_train,y_train,param_name='max_depth',param_range=param_rang,cv=3,scoring='r2',n_jobs=1)\n",
    "\n",
    "train_mean = np.mean(train_score,axis=1)\n",
    "train_std = np.std(train_score,axis=1)\n",
    "\n",
    "test_mean = np.mean(test_score,axis=1)\n",
    "test_std = np.std(test_score,axis=1)\n",
    "\n",
    "plt.figure(figsize=(15,7))\n",
    "plt.plot(param_rang,train_mean,label='Training R2 Score',color='b')\n",
    "plt.plot(param_rang,test_mean,label='Testing R2 Score',color='g')\n",
    "\n",
    "\n",
    "plt.legend(loc='best')\n",
    "plt.xlabel('max_depth')\n",
    "plt.ylabel('R2 Score')\n",
    "plt.title('Max Depth Vs R2 Score Plot')\n",
    "\n",
    "plt.show()"
   ]
  },
  {
   "cell_type": "code",
   "execution_count": 8,
   "metadata": {},
   "outputs": [
    {
     "name": "stdout",
     "output_type": "stream",
     "text": [
      "{'max_depth': 24}\n"
     ]
    }
   ],
   "source": [
    "par = {'max_depth' : [1,2,3,4,5,6,7,8,9,10,11,12,13,14,15,16,17,18,19,20,21,22,23,24,25,26,27,28,29,30,31,32,33,34,35]}\n",
    "\n",
    "gs = GridSearchCV(DecisionTreeRegressor(),param_grid=par,scoring='r2',cv=5,n_jobs=1)\n",
    "gs.fit(X_train,y_train)\n",
    "gs.predict(X_test)\n",
    "\n",
    "print(gs.best_params_)"
   ]
  },
  {
   "cell_type": "code",
   "execution_count": 11,
   "metadata": {},
   "outputs": [
    {
     "name": "stdout",
     "output_type": "stream",
     "text": [
      "R2 Score Details\n",
      "\n",
      "\n",
      "Training R2 Score\n",
      "0.9937952493430551\n",
      "\n",
      "\n",
      "Testing R2 Score\n",
      "0.8970041685392746\n",
      "\n",
      "\n",
      "Cross Validation Scores\n",
      "[0.83019267 0.76450964 0.84045341]\n",
      "\n",
      "\n",
      "Average R2 Score\n",
      "0.8117185723423735\n"
     ]
    }
   ],
   "source": [
    "dt = DecisionTreeRegressor(max_depth=13)\n",
    "\n",
    "dt.fit(X_train,y_train)\n",
    "dt.predict(X_test)\n",
    "\n",
    "print('R2 Score Details')\n",
    "print('\\n')\n",
    "print('Training R2 Score')\n",
    "print(dt.score(X_train,y_train))\n",
    "print('\\n')\n",
    "print('Testing R2 Score')\n",
    "print(dt.score(X_test,y_test))\n",
    "\n",
    "scoresdt = cross_val_score(DecisionTreeRegressor(),X_train,y_train,scoring='r2',cv=3,n_jobs=1)\n",
    "print('\\n')\n",
    "print('Cross Validation Scores')\n",
    "print(scoresdt)\n",
    "print('\\n')\n",
    "print('Average R2 Score')\n",
    "print(np.mean(scoresdt))"
   ]
  },
  {
   "cell_type": "code",
   "execution_count": 12,
   "metadata": {},
   "outputs": [
    {
     "data": {
      "image/png": "[encoded data removed]",
      "text/plain": [
       "<Figure size 1080x504 with 1 Axes>"
      ]
     },
     "metadata": {
      "needs_background": "light"
     },
     "output_type": "display_data"
    }
   ],
   "source": [
    "par_rag = np.arange(1,30,1)\n",
    "\n",
    "train_score,test_score = validation_curve(RandomForestRegressor(),X_train,y_train,param_name='n_estimators',param_range=par_rag,cv=3,scoring='r2',n_jobs=1)\n",
    "\n",
    "train_mean = np.mean(train_score,axis=1)\n",
    "train_std = np.std(train_score,axis=1)\n",
    "\n",
    "test_mean = np.mean(test_score,axis=1)\n",
    "test_std = np.std(test_score,axis=1)\n",
    "\n",
    "plt.figure(figsize=(15,7))\n",
    "plt.plot(par_rag,train_mean,label='Training R2 Score',color='b')\n",
    "plt.plot(par_rag,test_mean,label='Testing R2 Score',color='g')\n",
    "\n",
    "\n",
    "plt.legend(loc='best')\n",
    "plt.xlabel('max_depth')\n",
    "plt.ylabel('R2 Score')\n",
    "plt.title('Max Depth Vs R2 Score Plot')\n",
    "\n",
    "plt.show()"
   ]
  },
  {
   "cell_type": "code",
   "execution_count": 13,
   "metadata": {},
   "outputs": [
    {
     "name": "stdout",
     "output_type": "stream",
     "text": [
      "R2 Score Details\n",
      "\n",
      "\n",
      "Training R2 Score\n",
      "0.9799672220419484\n",
      "\n",
      "\n",
      "Testing R2 Score\n",
      "0.9221506005868803\n",
      "\n",
      "\n",
      "Feature Importance\n",
      "[0.32693796 0.07596549 0.019384   0.12615913 0.06264047 0.02624864\n",
      " 0.04045787 0.32220644]\n"
     ]
    }
   ],
   "source": [
    "rf = RandomForestRegressor(n_estimators=18)\n",
    "\n",
    "rf.fit(X_train,y_train)\n",
    "rf.predict(X_test)\n",
    "\n",
    "print('R2 Score Details')\n",
    "print('\\n')\n",
    "print('Training R2 Score')\n",
    "print(rf.score(X_train,y_train))\n",
    "print('\\n')\n",
    "print('Testing R2 Score')\n",
    "print(rf.score(X_test,y_test))\n",
    "print('\\n')\n",
    "print('Feature Importance')\n",
    "print(rf.feature_importances_)"
   ]
  },
  {
   "cell_type": "code",
   "execution_count": 14,
   "metadata": {},
   "outputs": [
    {
     "data": {
      "text/plain": [
       "[DecisionTreeRegressor(max_features='auto', random_state=1867513048),\n",
       " DecisionTreeRegressor(max_features='auto', random_state=1782056886),\n",
       " DecisionTreeRegressor(max_features='auto', random_state=840713215),\n",
       " DecisionTreeRegressor(max_features='auto', random_state=727812807),\n",
       " DecisionTreeRegressor(max_features='auto', random_state=638800037),\n",
       " DecisionTreeRegressor(max_features='auto', random_state=300321950),\n",
       " DecisionTreeRegressor(max_features='auto', random_state=165517476),\n",
       " DecisionTreeRegressor(max_features='auto', random_state=2020030767),\n",
       " DecisionTreeRegressor(max_features='auto', random_state=1509844301),\n",
       " DecisionTreeRegressor(max_features='auto', random_state=457015694),\n",
       " DecisionTreeRegressor(max_features='auto', random_state=336691932),\n",
       " DecisionTreeRegressor(max_features='auto', random_state=1351713500),\n",
       " DecisionTreeRegressor(max_features='auto', random_state=704944755),\n",
       " DecisionTreeRegressor(max_features='auto', random_state=1587413065),\n",
       " DecisionTreeRegressor(max_features='auto', random_state=1899476518),\n",
       " DecisionTreeRegressor(max_features='auto', random_state=76600828),\n",
       " DecisionTreeRegressor(max_features='auto', random_state=1367302260),\n",
       " DecisionTreeRegressor(max_features='auto', random_state=990273444)]"
      ]
     },
     "execution_count": 14,
     "metadata": {},
     "output_type": "execute_result"
    }
   ],
   "source": [
    "rf.estimators_"
   ]
  },
  {
   "cell_type": "code",
   "execution_count": 15,
   "metadata": {},
   "outputs": [
    {
     "name": "stdout",
     "output_type": "stream",
     "text": [
      "[0.90993241 0.8547459  0.86797502 0.9166369  0.91087092]\n",
      "\n",
      "\n",
      "Average R2 Score\n",
      "0.892032228115205\n"
     ]
    }
   ],
   "source": [
    "scoresdt = cross_val_score(RandomForestRegressor(),X_train,y_train,cv=5,scoring='r2')\n",
    "print(scoresdt)\n",
    "print('\\n')\n",
    "print('Average R2 Score')\n",
    "print(np.mean(scoresdt))"
   ]
  },
  {
   "cell_type": "code",
   "execution_count": 16,
   "metadata": {},
   "outputs": [
    {
     "name": "stdout",
     "output_type": "stream",
     "text": [
      "{'n_estimators': 21}\n"
     ]
    }
   ],
   "source": [
    "params = [{'n_estimators' : [1,2,3,4,5,6,7,8,9,10,11,12,13,14,15,16,17,18,19,20,21,22,23,24,25,26,27,28,29,30]}]\n",
    "\n",
    "search = GridSearchCV(RandomForestRegressor(),param_grid=params,scoring='r2',n_jobs=1,cv=5)\n",
    "search.fit(X_train,y_train)\n",
    "search.predict(X_test)\n",
    "\n",
    "print(search.best_params_)"
   ]
  },
  {
   "cell_type": "code",
   "execution_count": 17,
   "metadata": {},
   "outputs": [
    {
     "data": {
      "text/plain": [
       "RandomForestRegressor(n_estimators=21)"
      ]
     },
     "execution_count": 17,
     "metadata": {},
     "output_type": "execute_result"
    }
   ],
   "source": [
    "search.best_estimator_"
   ]
  },
  {
   "cell_type": "code",
   "execution_count": 18,
   "metadata": {},
   "outputs": [
    {
     "data": {
      "text/plain": [
       "0.890915174505507"
      ]
     },
     "execution_count": 18,
     "metadata": {},
     "output_type": "execute_result"
    }
   ],
   "source": [
    "search.best_score_"
   ]
  },
  {
   "cell_type": "code",
   "execution_count": 19,
   "metadata": {},
   "outputs": [
    {
     "data": {
      "text/plain": [
       "{'mean_fit_time': array([0.01071773, 0.01539059, 0.02040219, 0.02518024, 0.03185043,\n",
       "        0.04137106, 0.04328513, 0.0465796 , 0.05252585, 0.05875883,\n",
       "        0.06368966, 0.0683877 , 0.07263818, 0.08423567, 0.08748832,\n",
       "        0.09016056, 0.09560523, 0.09654193, 0.10062852, 0.11286349,\n",
       "        0.11417561, 0.11866598, 0.12227831, 0.12637792, 0.13342857,\n",
       "        0.14336162, 0.14209452, 0.14757609, 0.15126019, 0.15671797]),\n",
       " 'std_fit_time': array([0.00125811, 0.00033145, 0.00066167, 0.00068721, 0.00134954,\n",
       "        0.00256964, 0.0032323 , 0.00205656, 0.00155946, 0.00135852,\n",
       "        0.00113324, 0.00211369, 0.00065796, 0.00719543, 0.00459784,\n",
       "        0.00149561, 0.00258341, 0.00169171, 0.00281257, 0.00384024,\n",
       "        0.00225177, 0.00214017, 0.00082742, 0.00292929, 0.00279816,\n",
       "        0.0053472 , 0.00182012, 0.00172782, 0.00189433, 0.0016995 ]),\n",
       " 'mean_score_time': array([0.00512738, 0.00456772, 0.00444026, 0.00439963, 0.0047399 ,\n",
       "        0.00603285, 0.00498576, 0.00557246, 0.0057188 , 0.00606632,\n",
       "        0.00576801, 0.00580077, 0.00599465, 0.0069284 , 0.00755024,\n",
       "        0.00658627, 0.00680542, 0.00679703, 0.00658226, 0.00731602,\n",
       "        0.00741119, 0.00721674, 0.00739479, 0.00720816, 0.00800109,\n",
       "        0.00849233, 0.00802689, 0.00799742, 0.00860004, 0.00860214]),\n",
       " 'std_score_time': array([1.42104711e-03, 1.32564254e-03, 1.04502348e-03, 4.88837436e-04,\n",
       "        3.79969885e-04, 6.05315758e-04, 3.77981070e-04, 1.14326492e-03,\n",
       "        6.75421759e-04, 8.74470597e-04, 4.08216428e-04, 7.48479265e-04,\n",
       "        1.45756258e-05, 3.05268505e-04, 1.00840094e-03, 6.02333809e-04,\n",
       "        4.02616093e-04, 3.90726879e-04, 5.49488860e-04, 7.55250732e-04,\n",
       "        6.46049690e-04, 3.93857604e-04, 5.01757165e-04, 3.98864903e-04,\n",
       "        1.09510631e-03, 1.12719331e-03, 3.46291475e-05, 1.99507208e-05,\n",
       "        1.20017770e-03, 8.00206675e-04]),\n",
       " 'param_n_estimators': masked_array(data=[1, 2, 3, 4, 5, 6, 7, 8, 9, 10, 11, 12, 13, 14, 15, 16,\n",
       "                    17, 18, 19, 20, 21, 22, 23, 24, 25, 26, 27, 28, 29, 30],\n",
       "              mask=[False, False, False, False, False, False, False, False,\n",
       "                    False, False, False, False, False, False, False, False,\n",
       "                    False, False, False, False, False, False, False, False,\n",
       "                    False, False, False, False, False, False],\n",
       "        fill_value='?',\n",
       "             dtype=object),\n",
       " 'params': [{'n_estimators': 1},\n",
       "  {'n_estimators': 2},\n",
       "  {'n_estimators': 3},\n",
       "  {'n_estimators': 4},\n",
       "  {'n_estimators': 5},\n",
       "  {'n_estimators': 6},\n",
       "  {'n_estimators': 7},\n",
       "  {'n_estimators': 8},\n",
       "  {'n_estimators': 9},\n",
       "  {'n_estimators': 10},\n",
       "  {'n_estimators': 11},\n",
       "  {'n_estimators': 12},\n",
       "  {'n_estimators': 13},\n",
       "  {'n_estimators': 14},\n",
       "  {'n_estimators': 15},\n",
       "  {'n_estimators': 16},\n",
       "  {'n_estimators': 17},\n",
       "  {'n_estimators': 18},\n",
       "  {'n_estimators': 19},\n",
       "  {'n_estimators': 20},\n",
       "  {'n_estimators': 21},\n",
       "  {'n_estimators': 22},\n",
       "  {'n_estimators': 23},\n",
       "  {'n_estimators': 24},\n",
       "  {'n_estimators': 25},\n",
       "  {'n_estimators': 26},\n",
       "  {'n_estimators': 27},\n",
       "  {'n_estimators': 28},\n",
       "  {'n_estimators': 29},\n",
       "  {'n_estimators': 30}],\n",
       " 'split0_test_score': array([0.8143521 , 0.85420287, 0.86677652, 0.89388928, 0.88414534,\n",
       "        0.90645526, 0.8845513 , 0.89197855, 0.89393229, 0.90390003,\n",
       "        0.90240971, 0.9068228 , 0.90081983, 0.88864879, 0.90103658,\n",
       "        0.90585961, 0.89762321, 0.89881144, 0.89994339, 0.91275807,\n",
       "        0.92044968, 0.90141712, 0.91474202, 0.9047664 , 0.90342579,\n",
       "        0.90556309, 0.9057368 , 0.91280721, 0.90906568, 0.90903909]),\n",
       " 'split1_test_score': array([0.66134596, 0.72621347, 0.74099852, 0.82033245, 0.80373201,\n",
       "        0.83615205, 0.8726879 , 0.8276909 , 0.8222626 , 0.83962602,\n",
       "        0.83117235, 0.84330941, 0.85828105, 0.84873297, 0.84219737,\n",
       "        0.84715666, 0.83272457, 0.84648146, 0.84052687, 0.84597733,\n",
       "        0.85722236, 0.84588621, 0.84957802, 0.85691055, 0.85852251,\n",
       "        0.84187113, 0.8550501 , 0.85332035, 0.85278323, 0.83873335]),\n",
       " 'split2_test_score': array([0.74641489, 0.80894682, 0.85899434, 0.83532069, 0.84459446,\n",
       "        0.83224828, 0.86513145, 0.86020831, 0.86111622, 0.85225866,\n",
       "        0.85433598, 0.86587271, 0.8527295 , 0.85656781, 0.87567198,\n",
       "        0.85535281, 0.85169477, 0.87477695, 0.87086117, 0.87312222,\n",
       "        0.86234501, 0.84867563, 0.85914435, 0.86211371, 0.8677604 ,\n",
       "        0.87590651, 0.87032269, 0.86023998, 0.86171428, 0.8523673 ]),\n",
       " 'split3_test_score': array([0.81754507, 0.81522411, 0.88923307, 0.88259782, 0.89149822,\n",
       "        0.8827857 , 0.90396652, 0.89245833, 0.87231597, 0.89545648,\n",
       "        0.89163242, 0.8991234 , 0.89838404, 0.89719102, 0.89109052,\n",
       "        0.90644099, 0.90669427, 0.91519632, 0.89304876, 0.91104261,\n",
       "        0.90865911, 0.9017954 , 0.91122481, 0.90320122, 0.90543457,\n",
       "        0.90734657, 0.90080968, 0.90798029, 0.9150144 , 0.90573155]),\n",
       " 'split4_test_score': array([0.74797065, 0.87373591, 0.87214993, 0.8639195 , 0.89602935,\n",
       "        0.89481549, 0.90410112, 0.90237677, 0.89513643, 0.89513398,\n",
       "        0.90004836, 0.90159658, 0.90507429, 0.91094798, 0.90656247,\n",
       "        0.91103787, 0.90122862, 0.90782056, 0.91192442, 0.90286553,\n",
       "        0.90589971, 0.90028293, 0.91083956, 0.90356995, 0.9132128 ,\n",
       "        0.91046355, 0.90623329, 0.89781581, 0.91039495, 0.90709321]),\n",
       " 'mean_test_score': array([0.75752573, 0.81566463, 0.84563048, 0.85921195, 0.86399987,\n",
       "        0.87049135, 0.88608766, 0.87494257, 0.8689527 , 0.87727504,\n",
       "        0.87591977, 0.88334498, 0.88305774, 0.88041771, 0.88331178,\n",
       "        0.88516959, 0.87799309, 0.88861735, 0.88326092, 0.88915315,\n",
       "        0.89091517, 0.87961146, 0.88910575, 0.88611237, 0.88967122,\n",
       "        0.88823017, 0.88763051, 0.88643273, 0.88979451, 0.8825929 ]),\n",
       " 'std_test_score': array([0.0570909 , 0.05080217, 0.05325047, 0.02776323, 0.03520418,\n",
       "        0.03058737, 0.01590733, 0.02756621, 0.02669178, 0.02608319,\n",
       "        0.02828068, 0.02466339, 0.02266629, 0.02389114, 0.0230826 ,\n",
       "        0.0278702 , 0.02996608, 0.02508431, 0.02520181, 0.02586701,\n",
       "        0.02593504, 0.0264172 , 0.02856206, 0.02178738, 0.02210069,\n",
       "        0.02631054, 0.0210173 , 0.02478699, 0.02679602, 0.03056897]),\n",
       " 'rank_test_score': array([30, 29, 28, 27, 26, 24, 11, 23, 25, 21, 22, 13, 16, 18, 14, 12, 20,\n",
       "         6, 15,  4,  1, 19,  5, 10,  3,  7,  8,  9,  2, 17])}"
      ]
     },
     "execution_count": 19,
     "metadata": {},
     "output_type": "execute_result"
    }
   ],
   "source": [
    "search.cv_results_"
   ]
  },
  {
   "cell_type": "code",
   "execution_count": null,
   "metadata": {},
   "outputs": [],
   "source": []
  }
 ],
 "metadata": {
  "kernelspec": {
   "display_name": "Python 3",
   "language": "python",
   "name": "python3"
  },
  "language_info": {
   "codemirror_mode": {
    "name": "ipython",
    "version": 3
   },
   "file_extension": ".py",
   "mimetype": "text/x-python",
   "name": "python",
   "nbconvert_exporter": "python",
   "pygments_lexer": "ipython3",
   "version": "3.8.5"
  }
 },
 "nbformat": 4,
 "nbformat_minor": 4
}

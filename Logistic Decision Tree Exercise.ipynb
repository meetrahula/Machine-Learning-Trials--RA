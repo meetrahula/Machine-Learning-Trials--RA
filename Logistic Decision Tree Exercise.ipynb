{
 "cells": [
  {
   "cell_type": "code",
   "execution_count": null,
   "metadata": {},
   "outputs": [],
   "source": [
    "import numpy as np\n",
    "import pandas as pd\n",
    "import matplotlib.pyplot as plt\n",
    "import seaborn as sns\n",
    "from sklearn.preprocessing import StandardScaler\n",
    "from sklearn.linear_model import LogisticRegression\n",
    "from sklearn.model_selection import train_test_split\n",
    "from sklearn.tree import DecisionTreeClassifier\n",
    "from sklearn.ensemble import RandomForestClassifier\n",
    "from sklearn.metrics import confusion_matrix\n",
    "from sklearn.metrics import classification_report"
   ]
  },
  {
   "cell_type": "code",
   "execution_count": null,
   "metadata": {},
   "outputs": [],
   "source": [
    "data = pd.read_csv(filepath_or_buffer='https://raw.githubusercontent.com/insaid2018/Term-1/master/Data/Casestudy/titanic_train.csv')\n",
    "data.head()"
   ]
  },
  {
   "cell_type": "code",
   "execution_count": null,
   "metadata": {},
   "outputs": [],
   "source": [
    "data['Embarked'] = data['Embarked'].fillna(value=data['Embarked'].mode()[0])\n",
    "data['Age'] = data['Age'].fillna(value=data['Age'].median())\n",
    "data.drop(labels='Cabin',axis=1,inplace=True)"
   ]
  },
  {
   "cell_type": "code",
   "execution_count": null,
   "metadata": {},
   "outputs": [],
   "source": [
    "data.info()"
   ]
  },
  {
   "cell_type": "code",
   "execution_count": null,
   "metadata": {},
   "outputs": [],
   "source": [
    "data.head()"
   ]
  },
  {
   "cell_type": "code",
   "execution_count": null,
   "metadata": {},
   "outputs": [],
   "source": [
    "X = data.drop(labels=['PassengerId','Survived','Name','Ticket'],axis=1)\n",
    "X.head()"
   ]
  },
  {
   "cell_type": "code",
   "execution_count": null,
   "metadata": {},
   "outputs": [],
   "source": [
    "y = data['Survived']\n",
    "y.head()"
   ]
  },
  {
   "cell_type": "code",
   "execution_count": null,
   "metadata": {},
   "outputs": [],
   "source": [
    "X = pd.get_dummies(data=X,columns=['Sex','Embarked'])\n",
    "X.head()"
   ]
  },
  {
   "cell_type": "code",
   "execution_count": null,
   "metadata": {},
   "outputs": [],
   "source": [
    "scaler = StandardScaler()\n",
    "\n",
    "scaled = scaler.fit_transform(data[['Age','Fare']])\n",
    "data2 = pd.DataFrame(data=scaled,columns=['Age','Fare'])\n",
    "data2.head()"
   ]
  },
  {
   "cell_type": "code",
   "execution_count": null,
   "metadata": {},
   "outputs": [],
   "source": [
    "X.drop(labels=['Age','Fare'],axis=1,inplace=True)\n",
    "\n",
    "X1 = pd.concat(objs=[X,data2],axis=1)\n",
    "X1.head(20)"
   ]
  },
  {
   "cell_type": "code",
   "execution_count": null,
   "metadata": {},
   "outputs": [],
   "source": [
    "X_train,X_test,y_train,y_test = train_test_split(X1,y,test_size=0.20,random_state=42)\n",
    "print(X_train.shape)\n",
    "print(X_test.shape)\n",
    "print(y_train.shape)\n",
    "print(y_test.shape)"
   ]
  },
  {
   "cell_type": "code",
   "execution_count": null,
   "metadata": {},
   "outputs": [],
   "source": [
    "from sklearn.model_selection import RandomizedSearchCV\n",
    "from scipy.stats import randint as sp_randint\n",
    "\n",
    "param_dist = {\"max_depth\": range(2,5),\n",
    "              \"min_samples_split\": sp_randint(2, 11),\n",
    "              \"min_samples_leaf\": sp_randint(1, 11),\n",
    "              \"bootstrap\": [True, False],\n",
    "              \"n_estimators\": [100, 400, 700, 1000, 1500],\n",
    "              \"criterion\" : [\"gini\", \"entropy\"],\n",
    "              'max_features': ['sqrt', 'log2', None]\n",
    "             }\n",
    "\n",
    "\n"
   ]
  },
  {
   "cell_type": "code",
   "execution_count": null,
   "metadata": {},
   "outputs": [],
   "source": [
    "logreg = LogisticRegression()\n",
    "dtc = DecisionTreeClassifier()\n",
    "rfc = RandomForestClassifier(n_estimators=400,max_depth=5,criterion='gini',class_weight='balanced')\n",
    "\n",
    "logreg.fit(X_train,y_train)\n",
    "dtc.fit(X_train,y_train)\n",
    "rfc.fit(X_train,y_train)\n",
    "#random_seach.fit(X_train,y_train)"
   ]
  },
  {
   "cell_type": "code",
   "execution_count": null,
   "metadata": {},
   "outputs": [],
   "source": [
    "rfc.feature_importances_"
   ]
  },
  {
   "cell_type": "code",
   "execution_count": null,
   "metadata": {},
   "outputs": [],
   "source": [
    "y_log_pred_train = logreg.predict(X_train)\n",
    "y_log_pred_test = logreg.predict(X_test)\n",
    "\n",
    "y_dtc_pred_train = dtc.predict(X_train)\n",
    "y_dtc_pred_test = dtc.predict(X_test)\n",
    "\n",
    "y_rfc_pred_train = rfc.predict(X_train)\n",
    "y_rfc_pred_test = rfc.predict(X_test)\n",
    "\n",
    "#y_random_pred_train = random_seach.predict(X_train)\n",
    "#y_random_pred_test = random_seach.predict(X_test)"
   ]
  },
  {
   "cell_type": "code",
   "execution_count": null,
   "metadata": {},
   "outputs": [],
   "source": [
    "from sklearn.metrics import plot_confusion_matrix"
   ]
  },
  {
   "cell_type": "code",
   "execution_count": null,
   "metadata": {},
   "outputs": [],
   "source": [
    "cm = pd.DataFrame(confusion_matrix(y_train,y_log_pred_train))\n",
    "cm.columns()\n",
    "print(cm)"
   ]
  },
  {
   "cell_type": "code",
   "execution_count": null,
   "metadata": {},
   "outputs": [],
   "source": [
    "fig,(ax1) = plt.subplots(nrows=4,ncols=2,sharex=False,figsize=(15,7))\n",
    "\n",
    "plot_confusion_matrix(estimator=logreg,X=X_train,y_true=y_train,cmap='viridis',ax=ax1[0,0])\n",
    "plot_confusion_matrix(estimator=logreg,X=X_test,y_true=y_test,cmap='viridis',ax=ax1[0,1])\n",
    "\n",
    "plot_confusion_matrix(estimator=dtc,X=X_train,y_true=y_train,cmap='viridis',ax=ax1[1,0])\n",
    "plot_confusion_matrix(estimator=dtc,X=X_test,y_true=y_test,cmap='viridis',ax=ax1[1,1])\n",
    "\n",
    "plot_confusion_matrix(estimator=rfc,X=X_train,y_true=y_train,cmap='viridis',ax=ax1[2,0])\n",
    "plot_confusion_matrix(estimator=rfc,X=X_test,y_true=y_test,cmap='viridis',ax=ax1[2,1])\n",
    "\n",
    "\n",
    "plot_confusion_matrix(estimator=random_seach,X=X_train,y_true=y_train,cmap='viridis',ax=ax1[3,0])\n",
    "plot_confusion_matrix(estimator=random_seach,X=X_test,y_true=y_test,cmap='viridis',ax=ax1[3,1])\n"
   ]
  },
  {
   "cell_type": "code",
   "execution_count": null,
   "metadata": {},
   "outputs": [],
   "source": [
    "train_report = classification_report(y_train, y_log_pred_train)\n",
    "test_report = classification_report(y_test, y_log_pred_test)\n",
    "print('                    Training Report          ')\n",
    "print(train_report)\n",
    "print('                    Testing Report           ')\n",
    "print(test_report)"
   ]
  },
  {
   "cell_type": "code",
   "execution_count": null,
   "metadata": {},
   "outputs": [],
   "source": [
    "train_report = classification_report(y_train, y_dtc_pred_train)\n",
    "test_report = classification_report(y_test, y_dtc_pred_test)\n",
    "print('                    Training Report          ')\n",
    "print(train_report)\n",
    "print('                    Testing Report           ')\n",
    "print(test_report)"
   ]
  },
  {
   "cell_type": "code",
   "execution_count": null,
   "metadata": {},
   "outputs": [],
   "source": [
    "train_report = classification_report(y_train, y_rfc_pred_train)\n",
    "test_report = classification_report(y_test, y_rfc_pred_test)\n",
    "print('                    Training Report          ')\n",
    "print(train_report)\n",
    "print('                    Testing Report           ')\n",
    "print(test_report)"
   ]
  },
  {
   "cell_type": "code",
   "execution_count": null,
   "metadata": {},
   "outputs": [],
   "source": [
    "train_report = classification_report(y_train, y_random_pred_train)\n",
    "test_report = classification_report(y_test, y_random_pred_test)\n",
    "print('                    Training Report          ')\n",
    "print(train_report)\n",
    "print('                    Testing Report           ')\n",
    "print(test_report)"
   ]
  },
  {
   "cell_type": "code",
   "execution_count": null,
   "metadata": {},
   "outputs": [],
   "source": [
    "data.head()"
   ]
  },
  {
   "cell_type": "code",
   "execution_count": null,
   "metadata": {},
   "outputs": [],
   "source": [
    "data['Title'] = data['Name'].str.extract(pat=' ([A-Za-z]+)\\.',expand=False)"
   ]
  },
  {
   "cell_type": "code",
   "execution_count": null,
   "metadata": {},
   "outputs": [],
   "source": [
    "data.head()"
   ]
  },
  {
   "cell_type": "code",
   "execution_count": null,
   "metadata": {},
   "outputs": [],
   "source": [
    "data['Title'].unique()"
   ]
  },
  {
   "cell_type": "code",
   "execution_count": null,
   "metadata": {},
   "outputs": [],
   "source": []
  },
  {
   "cell_type": "code",
   "execution_count": null,
   "metadata": {},
   "outputs": [],
   "source": [
    "data['Title'].replace(to_replace = ['Mr','Mrs','Miss','Master','Don','Rev','Dr','Mme','Ms','Major','Lady','Sir','Mlle','Col','Capt','Countess','Jonkheer'],\n",
    "                    value =['Mr','Mrs','Miss','Master','Mr','Mr','Dr','Miss','Miss','Mr','Mrs','Mr','Miss','Mr','Mr','Miss','Master'],inplace=True)"
   ]
  },
  {
   "cell_type": "code",
   "execution_count": null,
   "metadata": {},
   "outputs": [],
   "source": [
    "data['Title'].unique()"
   ]
  },
  {
   "cell_type": "code",
   "execution_count": null,
   "metadata": {},
   "outputs": [],
   "source": [
    "data[data['Title'] == 'Dr'][['Name','Sex','Age']]"
   ]
  },
  {
   "cell_type": "code",
   "execution_count": null,
   "metadata": {},
   "outputs": [],
   "source": [
    "data['Title1'] = data['Name'].str.extract(pat=' ([A-Za-z]+)\\.',expand=False)\n",
    "data.head()"
   ]
  },
  {
   "cell_type": "code",
   "execution_count": null,
   "metadata": {},
   "outputs": [],
   "source": [
    "data.drop(labels='Title1',axis=1,inplace=True)\n",
    "data.head()"
   ]
  }
 ],
 "metadata": {
  "kernelspec": {
   "display_name": "Python 3",
   "language": "python",
   "name": "python3"
  },
  "language_info": {
   "codemirror_mode": {
    "name": "ipython",
    "version": 3
   },
   "file_extension": ".py",
   "mimetype": "text/x-python",
   "name": "python",
   "nbconvert_exporter": "python",
   "pygments_lexer": "ipython3",
   "version": "3.8.5"
  }
 },
 "nbformat": 4,
 "nbformat_minor": 4
}
